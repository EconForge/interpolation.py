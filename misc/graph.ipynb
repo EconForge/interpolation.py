{
 "cells": [
  {
   "cell_type": "code",
   "execution_count": 11,
   "metadata": {},
   "outputs": [
    {
     "data": {
      "text/html": [
       "<div>\n",
       "<style scoped>\n",
       "    .dataframe tbody tr th:only-of-type {\n",
       "        vertical-align: middle;\n",
       "    }\n",
       "\n",
       "    .dataframe tbody tr th {\n",
       "        vertical-align: top;\n",
       "    }\n",
       "\n",
       "    .dataframe thead th {\n",
       "        text-align: right;\n",
       "    }\n",
       "</style>\n",
       "<table border=\"1\" class=\"dataframe\">\n",
       "  <thead>\n",
       "    <tr style=\"text-align: right;\">\n",
       "      <th></th>\n",
       "      <th>k</th>\n",
       "      <th>extrap</th>\n",
       "      <th>x</th>\n",
       "      <th>value</th>\n",
       "    </tr>\n",
       "  </thead>\n",
       "  <tbody>\n",
       "    <tr>\n",
       "      <th>0</th>\n",
       "      <td>1</td>\n",
       "      <td>Linear</td>\n",
       "      <td>-1.200000</td>\n",
       "      <td>-0.207099</td>\n",
       "    </tr>\n",
       "    <tr>\n",
       "      <th>1</th>\n",
       "      <td>1</td>\n",
       "      <td>Linear</td>\n",
       "      <td>-1.175758</td>\n",
       "      <td>-0.205242</td>\n",
       "    </tr>\n",
       "    <tr>\n",
       "      <th>2</th>\n",
       "      <td>1</td>\n",
       "      <td>Linear</td>\n",
       "      <td>-1.151515</td>\n",
       "      <td>-0.203386</td>\n",
       "    </tr>\n",
       "    <tr>\n",
       "      <th>3</th>\n",
       "      <td>1</td>\n",
       "      <td>Linear</td>\n",
       "      <td>-1.127273</td>\n",
       "      <td>-0.201530</td>\n",
       "    </tr>\n",
       "    <tr>\n",
       "      <th>4</th>\n",
       "      <td>1</td>\n",
       "      <td>Linear</td>\n",
       "      <td>-1.103030</td>\n",
       "      <td>-0.199674</td>\n",
       "    </tr>\n",
       "    <tr>\n",
       "      <th>5</th>\n",
       "      <td>1</td>\n",
       "      <td>Linear</td>\n",
       "      <td>-1.078788</td>\n",
       "      <td>-0.197818</td>\n",
       "    </tr>\n",
       "    <tr>\n",
       "      <th>6</th>\n",
       "      <td>1</td>\n",
       "      <td>Linear</td>\n",
       "      <td>-1.054545</td>\n",
       "      <td>-0.195961</td>\n",
       "    </tr>\n",
       "    <tr>\n",
       "      <th>7</th>\n",
       "      <td>1</td>\n",
       "      <td>Linear</td>\n",
       "      <td>-1.030303</td>\n",
       "      <td>-0.194105</td>\n",
       "    </tr>\n",
       "    <tr>\n",
       "      <th>8</th>\n",
       "      <td>1</td>\n",
       "      <td>Linear</td>\n",
       "      <td>-1.006061</td>\n",
       "      <td>-0.192249</td>\n",
       "    </tr>\n",
       "    <tr>\n",
       "      <th>9</th>\n",
       "      <td>1</td>\n",
       "      <td>Linear</td>\n",
       "      <td>-0.981818</td>\n",
       "      <td>-0.190393</td>\n",
       "    </tr>\n",
       "    <tr>\n",
       "      <th>10</th>\n",
       "      <td>1</td>\n",
       "      <td>Linear</td>\n",
       "      <td>-0.957576</td>\n",
       "      <td>-0.188536</td>\n",
       "    </tr>\n",
       "    <tr>\n",
       "      <th>11</th>\n",
       "      <td>1</td>\n",
       "      <td>Linear</td>\n",
       "      <td>-0.933333</td>\n",
       "      <td>-0.186680</td>\n",
       "    </tr>\n",
       "    <tr>\n",
       "      <th>12</th>\n",
       "      <td>1</td>\n",
       "      <td>Linear</td>\n",
       "      <td>-0.909091</td>\n",
       "      <td>-0.184824</td>\n",
       "    </tr>\n",
       "    <tr>\n",
       "      <th>13</th>\n",
       "      <td>1</td>\n",
       "      <td>Linear</td>\n",
       "      <td>-0.884848</td>\n",
       "      <td>-0.182968</td>\n",
       "    </tr>\n",
       "    <tr>\n",
       "      <th>14</th>\n",
       "      <td>1</td>\n",
       "      <td>Linear</td>\n",
       "      <td>-0.860606</td>\n",
       "      <td>-0.181111</td>\n",
       "    </tr>\n",
       "    <tr>\n",
       "      <th>15</th>\n",
       "      <td>1</td>\n",
       "      <td>Linear</td>\n",
       "      <td>-0.836364</td>\n",
       "      <td>-0.179255</td>\n",
       "    </tr>\n",
       "    <tr>\n",
       "      <th>16</th>\n",
       "      <td>1</td>\n",
       "      <td>Linear</td>\n",
       "      <td>-0.812121</td>\n",
       "      <td>-0.177399</td>\n",
       "    </tr>\n",
       "    <tr>\n",
       "      <th>17</th>\n",
       "      <td>1</td>\n",
       "      <td>Linear</td>\n",
       "      <td>-0.787879</td>\n",
       "      <td>-0.175543</td>\n",
       "    </tr>\n",
       "    <tr>\n",
       "      <th>18</th>\n",
       "      <td>1</td>\n",
       "      <td>Linear</td>\n",
       "      <td>-0.763636</td>\n",
       "      <td>-0.155496</td>\n",
       "    </tr>\n",
       "    <tr>\n",
       "      <th>19</th>\n",
       "      <td>1</td>\n",
       "      <td>Linear</td>\n",
       "      <td>-0.739394</td>\n",
       "      <td>-0.122455</td>\n",
       "    </tr>\n",
       "    <tr>\n",
       "      <th>20</th>\n",
       "      <td>1</td>\n",
       "      <td>Linear</td>\n",
       "      <td>-0.715152</td>\n",
       "      <td>-0.089414</td>\n",
       "    </tr>\n",
       "    <tr>\n",
       "      <th>21</th>\n",
       "      <td>1</td>\n",
       "      <td>Linear</td>\n",
       "      <td>-0.690909</td>\n",
       "      <td>-0.056374</td>\n",
       "    </tr>\n",
       "    <tr>\n",
       "      <th>22</th>\n",
       "      <td>1</td>\n",
       "      <td>Linear</td>\n",
       "      <td>-0.666667</td>\n",
       "      <td>-0.023333</td>\n",
       "    </tr>\n",
       "    <tr>\n",
       "      <th>23</th>\n",
       "      <td>1</td>\n",
       "      <td>Linear</td>\n",
       "      <td>-0.642424</td>\n",
       "      <td>0.009707</td>\n",
       "    </tr>\n",
       "    <tr>\n",
       "      <th>24</th>\n",
       "      <td>1</td>\n",
       "      <td>Linear</td>\n",
       "      <td>-0.618182</td>\n",
       "      <td>0.042748</td>\n",
       "    </tr>\n",
       "    <tr>\n",
       "      <th>25</th>\n",
       "      <td>1</td>\n",
       "      <td>Linear</td>\n",
       "      <td>-0.593939</td>\n",
       "      <td>0.075788</td>\n",
       "    </tr>\n",
       "    <tr>\n",
       "      <th>26</th>\n",
       "      <td>1</td>\n",
       "      <td>Linear</td>\n",
       "      <td>-0.569697</td>\n",
       "      <td>0.108829</td>\n",
       "    </tr>\n",
       "    <tr>\n",
       "      <th>27</th>\n",
       "      <td>1</td>\n",
       "      <td>Linear</td>\n",
       "      <td>-0.545455</td>\n",
       "      <td>0.149427</td>\n",
       "    </tr>\n",
       "    <tr>\n",
       "      <th>28</th>\n",
       "      <td>1</td>\n",
       "      <td>Linear</td>\n",
       "      <td>-0.521212</td>\n",
       "      <td>0.200606</td>\n",
       "    </tr>\n",
       "    <tr>\n",
       "      <th>29</th>\n",
       "      <td>1</td>\n",
       "      <td>Linear</td>\n",
       "      <td>-0.496970</td>\n",
       "      <td>0.251786</td>\n",
       "    </tr>\n",
       "    <tr>\n",
       "      <th>...</th>\n",
       "      <td>...</td>\n",
       "      <td>...</td>\n",
       "      <td>...</td>\n",
       "      <td>...</td>\n",
       "    </tr>\n",
       "    <tr>\n",
       "      <th>570</th>\n",
       "      <td>3</td>\n",
       "      <td>Nearest</td>\n",
       "      <td>0.496970</td>\n",
       "      <td>0.246426</td>\n",
       "    </tr>\n",
       "    <tr>\n",
       "      <th>571</th>\n",
       "      <td>3</td>\n",
       "      <td>Nearest</td>\n",
       "      <td>0.521212</td>\n",
       "      <td>0.196272</td>\n",
       "    </tr>\n",
       "    <tr>\n",
       "      <th>572</th>\n",
       "      <td>3</td>\n",
       "      <td>Nearest</td>\n",
       "      <td>0.545455</td>\n",
       "      <td>0.147746</td>\n",
       "    </tr>\n",
       "    <tr>\n",
       "      <th>573</th>\n",
       "      <td>3</td>\n",
       "      <td>Nearest</td>\n",
       "      <td>0.569697</td>\n",
       "      <td>0.101243</td>\n",
       "    </tr>\n",
       "    <tr>\n",
       "      <th>574</th>\n",
       "      <td>3</td>\n",
       "      <td>Nearest</td>\n",
       "      <td>0.593939</td>\n",
       "      <td>0.057081</td>\n",
       "    </tr>\n",
       "    <tr>\n",
       "      <th>575</th>\n",
       "      <td>3</td>\n",
       "      <td>Nearest</td>\n",
       "      <td>0.618182</td>\n",
       "      <td>0.015520</td>\n",
       "    </tr>\n",
       "    <tr>\n",
       "      <th>576</th>\n",
       "      <td>3</td>\n",
       "      <td>Nearest</td>\n",
       "      <td>0.642424</td>\n",
       "      <td>-0.023182</td>\n",
       "    </tr>\n",
       "    <tr>\n",
       "      <th>577</th>\n",
       "      <td>3</td>\n",
       "      <td>Nearest</td>\n",
       "      <td>0.666667</td>\n",
       "      <td>-0.058769</td>\n",
       "    </tr>\n",
       "    <tr>\n",
       "      <th>578</th>\n",
       "      <td>3</td>\n",
       "      <td>Nearest</td>\n",
       "      <td>0.690909</td>\n",
       "      <td>-0.090982</td>\n",
       "    </tr>\n",
       "    <tr>\n",
       "      <th>579</th>\n",
       "      <td>3</td>\n",
       "      <td>Nearest</td>\n",
       "      <td>0.715152</td>\n",
       "      <td>-0.119563</td>\n",
       "    </tr>\n",
       "    <tr>\n",
       "      <th>580</th>\n",
       "      <td>3</td>\n",
       "      <td>Nearest</td>\n",
       "      <td>0.739394</td>\n",
       "      <td>-0.144256</td>\n",
       "    </tr>\n",
       "    <tr>\n",
       "      <th>581</th>\n",
       "      <td>3</td>\n",
       "      <td>Nearest</td>\n",
       "      <td>0.763636</td>\n",
       "      <td>-0.164802</td>\n",
       "    </tr>\n",
       "    <tr>\n",
       "      <th>582</th>\n",
       "      <td>3</td>\n",
       "      <td>Nearest</td>\n",
       "      <td>0.787879</td>\n",
       "      <td>-0.180952</td>\n",
       "    </tr>\n",
       "    <tr>\n",
       "      <th>583</th>\n",
       "      <td>3</td>\n",
       "      <td>Nearest</td>\n",
       "      <td>0.812121</td>\n",
       "      <td>-0.192780</td>\n",
       "    </tr>\n",
       "    <tr>\n",
       "      <th>584</th>\n",
       "      <td>3</td>\n",
       "      <td>Nearest</td>\n",
       "      <td>0.836364</td>\n",
       "      <td>-0.200757</td>\n",
       "    </tr>\n",
       "    <tr>\n",
       "      <th>585</th>\n",
       "      <td>3</td>\n",
       "      <td>Nearest</td>\n",
       "      <td>0.860606</td>\n",
       "      <td>-0.205380</td>\n",
       "    </tr>\n",
       "    <tr>\n",
       "      <th>586</th>\n",
       "      <td>3</td>\n",
       "      <td>Nearest</td>\n",
       "      <td>0.884848</td>\n",
       "      <td>-0.207146</td>\n",
       "    </tr>\n",
       "    <tr>\n",
       "      <th>587</th>\n",
       "      <td>3</td>\n",
       "      <td>Nearest</td>\n",
       "      <td>0.909091</td>\n",
       "      <td>-0.206552</td>\n",
       "    </tr>\n",
       "    <tr>\n",
       "      <th>588</th>\n",
       "      <td>3</td>\n",
       "      <td>Nearest</td>\n",
       "      <td>0.933333</td>\n",
       "      <td>-0.204094</td>\n",
       "    </tr>\n",
       "    <tr>\n",
       "      <th>589</th>\n",
       "      <td>3</td>\n",
       "      <td>Nearest</td>\n",
       "      <td>0.957576</td>\n",
       "      <td>-0.200270</td>\n",
       "    </tr>\n",
       "    <tr>\n",
       "      <th>590</th>\n",
       "      <td>3</td>\n",
       "      <td>Nearest</td>\n",
       "      <td>0.981818</td>\n",
       "      <td>-0.195577</td>\n",
       "    </tr>\n",
       "    <tr>\n",
       "      <th>591</th>\n",
       "      <td>3</td>\n",
       "      <td>Nearest</td>\n",
       "      <td>1.006061</td>\n",
       "      <td>-0.191785</td>\n",
       "    </tr>\n",
       "    <tr>\n",
       "      <th>592</th>\n",
       "      <td>3</td>\n",
       "      <td>Nearest</td>\n",
       "      <td>1.030303</td>\n",
       "      <td>-0.191785</td>\n",
       "    </tr>\n",
       "    <tr>\n",
       "      <th>593</th>\n",
       "      <td>3</td>\n",
       "      <td>Nearest</td>\n",
       "      <td>1.054545</td>\n",
       "      <td>-0.191785</td>\n",
       "    </tr>\n",
       "    <tr>\n",
       "      <th>594</th>\n",
       "      <td>3</td>\n",
       "      <td>Nearest</td>\n",
       "      <td>1.078788</td>\n",
       "      <td>-0.191785</td>\n",
       "    </tr>\n",
       "    <tr>\n",
       "      <th>595</th>\n",
       "      <td>3</td>\n",
       "      <td>Nearest</td>\n",
       "      <td>1.103030</td>\n",
       "      <td>-0.191785</td>\n",
       "    </tr>\n",
       "    <tr>\n",
       "      <th>596</th>\n",
       "      <td>3</td>\n",
       "      <td>Nearest</td>\n",
       "      <td>1.127273</td>\n",
       "      <td>-0.191785</td>\n",
       "    </tr>\n",
       "    <tr>\n",
       "      <th>597</th>\n",
       "      <td>3</td>\n",
       "      <td>Nearest</td>\n",
       "      <td>1.151515</td>\n",
       "      <td>-0.191785</td>\n",
       "    </tr>\n",
       "    <tr>\n",
       "      <th>598</th>\n",
       "      <td>3</td>\n",
       "      <td>Nearest</td>\n",
       "      <td>1.175758</td>\n",
       "      <td>-0.191785</td>\n",
       "    </tr>\n",
       "    <tr>\n",
       "      <th>599</th>\n",
       "      <td>3</td>\n",
       "      <td>Nearest</td>\n",
       "      <td>1.200000</td>\n",
       "      <td>-0.191785</td>\n",
       "    </tr>\n",
       "  </tbody>\n",
       "</table>\n",
       "<p>600 rows × 4 columns</p>\n",
       "</div>"
      ],
      "text/plain": [
       "     k   extrap         x     value\n",
       "0    1   Linear -1.200000 -0.207099\n",
       "1    1   Linear -1.175758 -0.205242\n",
       "2    1   Linear -1.151515 -0.203386\n",
       "3    1   Linear -1.127273 -0.201530\n",
       "4    1   Linear -1.103030 -0.199674\n",
       "5    1   Linear -1.078788 -0.197818\n",
       "6    1   Linear -1.054545 -0.195961\n",
       "7    1   Linear -1.030303 -0.194105\n",
       "8    1   Linear -1.006061 -0.192249\n",
       "9    1   Linear -0.981818 -0.190393\n",
       "10   1   Linear -0.957576 -0.188536\n",
       "11   1   Linear -0.933333 -0.186680\n",
       "12   1   Linear -0.909091 -0.184824\n",
       "13   1   Linear -0.884848 -0.182968\n",
       "14   1   Linear -0.860606 -0.181111\n",
       "15   1   Linear -0.836364 -0.179255\n",
       "16   1   Linear -0.812121 -0.177399\n",
       "17   1   Linear -0.787879 -0.175543\n",
       "18   1   Linear -0.763636 -0.155496\n",
       "19   1   Linear -0.739394 -0.122455\n",
       "20   1   Linear -0.715152 -0.089414\n",
       "21   1   Linear -0.690909 -0.056374\n",
       "22   1   Linear -0.666667 -0.023333\n",
       "23   1   Linear -0.642424  0.009707\n",
       "24   1   Linear -0.618182  0.042748\n",
       "25   1   Linear -0.593939  0.075788\n",
       "26   1   Linear -0.569697  0.108829\n",
       "27   1   Linear -0.545455  0.149427\n",
       "28   1   Linear -0.521212  0.200606\n",
       "29   1   Linear -0.496970  0.251786\n",
       "..  ..      ...       ...       ...\n",
       "570  3  Nearest  0.496970  0.246426\n",
       "571  3  Nearest  0.521212  0.196272\n",
       "572  3  Nearest  0.545455  0.147746\n",
       "573  3  Nearest  0.569697  0.101243\n",
       "574  3  Nearest  0.593939  0.057081\n",
       "575  3  Nearest  0.618182  0.015520\n",
       "576  3  Nearest  0.642424 -0.023182\n",
       "577  3  Nearest  0.666667 -0.058769\n",
       "578  3  Nearest  0.690909 -0.090982\n",
       "579  3  Nearest  0.715152 -0.119563\n",
       "580  3  Nearest  0.739394 -0.144256\n",
       "581  3  Nearest  0.763636 -0.164802\n",
       "582  3  Nearest  0.787879 -0.180952\n",
       "583  3  Nearest  0.812121 -0.192780\n",
       "584  3  Nearest  0.836364 -0.200757\n",
       "585  3  Nearest  0.860606 -0.205380\n",
       "586  3  Nearest  0.884848 -0.207146\n",
       "587  3  Nearest  0.909091 -0.206552\n",
       "588  3  Nearest  0.933333 -0.204094\n",
       "589  3  Nearest  0.957576 -0.200270\n",
       "590  3  Nearest  0.981818 -0.195577\n",
       "591  3  Nearest  1.006061 -0.191785\n",
       "592  3  Nearest  1.030303 -0.191785\n",
       "593  3  Nearest  1.054545 -0.191785\n",
       "594  3  Nearest  1.078788 -0.191785\n",
       "595  3  Nearest  1.103030 -0.191785\n",
       "596  3  Nearest  1.127273 -0.191785\n",
       "597  3  Nearest  1.151515 -0.191785\n",
       "598  3  Nearest  1.175758 -0.191785\n",
       "599  3  Nearest  1.200000 -0.191785\n",
       "\n",
       "[600 rows x 4 columns]"
      ]
     },
     "execution_count": 11,
     "metadata": {},
     "output_type": "execute_result"
    }
   ],
   "source": [
    "import numpy as np\n",
    "from interpolation.splines import eval_linear, eval_cubic\n",
    "from interpolation.splines.prefilter_cubic import prefilter_cubic\n",
    "from interpolation.splines.option_types import options\n",
    "\n",
    "K = 5\n",
    "f = lambda x: np.sin(abs(x*K)+0.000001)/(abs(x*K)+0.000001)\n",
    "\n",
    "xvec = np.linspace(-1,1,10)\n",
    "yvec = f(xvec)\n",
    "\n",
    "tvec = np.linspace(-1.2,1.2,100)\n",
    "grid=((-1.0, 1.0, 10),)\n",
    "\n",
    "y_0 = f(tvec)\n",
    "\n",
    "import xarray\n",
    "len(tvec)\n",
    "data = np.zeros((len(tvec), 2, 3))\n",
    "\n",
    "for i,e in enumerate([eval_linear, eval_cubic]):\n",
    "    for j,emode in enumerate([options.LINEAR, options.CONSTANT,options.NEAREST]):\n",
    "        if i==1:\n",
    "            c = prefilter_cubic(grid, yvec)\n",
    "        else:\n",
    "            c = yvec\n",
    "        data[:,i,j] = e(grid, c, tvec[:,None], emode)\n",
    "\n",
    "\n",
    "xdata = xarray.DataArray(data, coords=[('x',tvec),('k',[1,3]),('extrap',['Linear','Constant','Nearest'])])\n",
    "xdata = xdata.transpose('k','extrap','x')\n",
    "df = xdata.to_dataframe('value').reset_index()\n",
    "\n",
    "df"
   ]
  },
  {
   "cell_type": "code",
   "execution_count": 12,
   "metadata": {},
   "outputs": [],
   "source": [
    "import altair as alt\n",
    "from altair import datum\n",
    "import pandas"
   ]
  },
  {
   "cell_type": "code",
   "execution_count": 13,
   "metadata": {},
   "outputs": [],
   "source": [
    "df0 = pandas.DataFrame(\n",
    "    np.row_stack([('Data',xvec[i],yvec[i]) for i in range(len(xvec))] + [('Function',tvec[i],y_0[i]) for i in range(len(tvec))]),\n",
    "    columns=['fun','x','y']\n",
    ")"
   ]
  },
  {
   "cell_type": "code",
   "execution_count": 14,
   "metadata": {},
   "outputs": [
    {
     "data": {
      "text/html": [
       "<div>\n",
       "<style scoped>\n",
       "    .dataframe tbody tr th:only-of-type {\n",
       "        vertical-align: middle;\n",
       "    }\n",
       "\n",
       "    .dataframe tbody tr th {\n",
       "        vertical-align: top;\n",
       "    }\n",
       "\n",
       "    .dataframe thead th {\n",
       "        text-align: right;\n",
       "    }\n",
       "</style>\n",
       "<table border=\"1\" class=\"dataframe\">\n",
       "  <thead>\n",
       "    <tr style=\"text-align: right;\">\n",
       "      <th></th>\n",
       "      <th>fun</th>\n",
       "      <th>x</th>\n",
       "      <th>y</th>\n",
       "    </tr>\n",
       "  </thead>\n",
       "  <tbody>\n",
       "    <tr>\n",
       "      <th>0</th>\n",
       "      <td>Data</td>\n",
       "      <td>-1.0</td>\n",
       "      <td>-0.19178475984314272</td>\n",
       "    </tr>\n",
       "    <tr>\n",
       "      <th>1</th>\n",
       "      <td>Data</td>\n",
       "      <td>-0.7777777777777778</td>\n",
       "      <td>-0.1747693324677232</td>\n",
       "    </tr>\n",
       "    <tr>\n",
       "      <th>2</th>\n",
       "      <td>Data</td>\n",
       "      <td>-0.5555555555555556</td>\n",
       "      <td>0.12810273435072683</td>\n",
       "    </tr>\n",
       "    <tr>\n",
       "      <th>3</th>\n",
       "      <td>Data</td>\n",
       "      <td>-0.33333333333333337</td>\n",
       "      <td>0.5972443588700161</td>\n",
       "    </tr>\n",
       "    <tr>\n",
       "      <th>4</th>\n",
       "      <td>Data</td>\n",
       "      <td>-0.11111111111111116</td>\n",
       "      <td>0.9493475148569697</td>\n",
       "    </tr>\n",
       "    <tr>\n",
       "      <th>5</th>\n",
       "      <td>Data</td>\n",
       "      <td>0.11111111111111116</td>\n",
       "      <td>0.9493475148569697</td>\n",
       "    </tr>\n",
       "    <tr>\n",
       "      <th>6</th>\n",
       "      <td>Data</td>\n",
       "      <td>0.33333333333333326</td>\n",
       "      <td>0.5972443588700164</td>\n",
       "    </tr>\n",
       "    <tr>\n",
       "      <th>7</th>\n",
       "      <td>Data</td>\n",
       "      <td>0.5555555555555554</td>\n",
       "      <td>0.12810273435072717</td>\n",
       "    </tr>\n",
       "    <tr>\n",
       "      <th>8</th>\n",
       "      <td>Data</td>\n",
       "      <td>0.7777777777777777</td>\n",
       "      <td>-0.17476933246772314</td>\n",
       "    </tr>\n",
       "    <tr>\n",
       "      <th>9</th>\n",
       "      <td>Data</td>\n",
       "      <td>1.0</td>\n",
       "      <td>-0.19178475984314272</td>\n",
       "    </tr>\n",
       "    <tr>\n",
       "      <th>10</th>\n",
       "      <td>Function</td>\n",
       "      <td>-1.2</td>\n",
       "      <td>-0.04656908190990291</td>\n",
       "    </tr>\n",
       "    <tr>\n",
       "      <th>11</th>\n",
       "      <td>Function</td>\n",
       "      <td>-1.1757575757575758</td>\n",
       "      <td>-0.06692942247711572</td>\n",
       "    </tr>\n",
       "    <tr>\n",
       "      <th>12</th>\n",
       "      <td>Function</td>\n",
       "      <td>-1.1515151515151514</td>\n",
       "      <td>-0.08714421457173124</td>\n",
       "    </tr>\n",
       "    <tr>\n",
       "      <th>13</th>\n",
       "      <td>Function</td>\n",
       "      <td>-1.1272727272727272</td>\n",
       "      <td>-0.106922170188949</td>\n",
       "    </tr>\n",
       "    <tr>\n",
       "      <th>14</th>\n",
       "      <td>Function</td>\n",
       "      <td>-1.103030303030303</td>\n",
       "      <td>-0.12596598390494812</td>\n",
       "    </tr>\n",
       "    <tr>\n",
       "      <th>15</th>\n",
       "      <td>Function</td>\n",
       "      <td>-1.0787878787878786</td>\n",
       "      <td>-0.14397568542484868</td>\n",
       "    </tr>\n",
       "    <tr>\n",
       "      <th>16</th>\n",
       "      <td>Function</td>\n",
       "      <td>-1.0545454545454545</td>\n",
       "      <td>-0.16065209338041372</td>\n",
       "    </tr>\n",
       "    <tr>\n",
       "      <th>17</th>\n",
       "      <td>Function</td>\n",
       "      <td>-1.0303030303030303</td>\n",
       "      <td>-0.17570033057836132</td>\n",
       "    </tr>\n",
       "    <tr>\n",
       "      <th>18</th>\n",
       "      <td>Function</td>\n",
       "      <td>-1.006060606060606</td>\n",
       "      <td>-0.18883335963211464</td>\n",
       "    </tr>\n",
       "    <tr>\n",
       "      <th>19</th>\n",
       "      <td>Function</td>\n",
       "      <td>-0.9818181818181818</td>\n",
       "      <td>-0.1997754971333988</td>\n",
       "    </tr>\n",
       "    <tr>\n",
       "      <th>20</th>\n",
       "      <td>Function</td>\n",
       "      <td>-0.9575757575757575</td>\n",
       "      <td>-0.20826586424931942</td>\n",
       "    </tr>\n",
       "    <tr>\n",
       "      <th>21</th>\n",
       "      <td>Function</td>\n",
       "      <td>-0.9333333333333333</td>\n",
       "      <td>-0.2140617318733032</td>\n",
       "    </tr>\n",
       "    <tr>\n",
       "      <th>22</th>\n",
       "      <td>Function</td>\n",
       "      <td>-0.9090909090909091</td>\n",
       "      <td>-0.21694171921595845</td>\n",
       "    </tr>\n",
       "    <tr>\n",
       "      <th>23</th>\n",
       "      <td>Function</td>\n",
       "      <td>-0.8848484848484848</td>\n",
       "      <td>-0.21670880598951436</td>\n",
       "    </tr>\n",
       "    <tr>\n",
       "      <th>24</th>\n",
       "      <td>Function</td>\n",
       "      <td>-0.8606060606060606</td>\n",
       "      <td>-0.2131931201055802</td>\n",
       "    </tr>\n",
       "    <tr>\n",
       "      <th>25</th>\n",
       "      <td>Function</td>\n",
       "      <td>-0.8363636363636363</td>\n",
       "      <td>-0.20625446505275297</td>\n",
       "    </tr>\n",
       "    <tr>\n",
       "      <th>26</th>\n",
       "      <td>Function</td>\n",
       "      <td>-0.812121212121212</td>\n",
       "      <td>-0.19578455382419693</td>\n",
       "    </tr>\n",
       "    <tr>\n",
       "      <th>27</th>\n",
       "      <td>Function</td>\n",
       "      <td>-0.7878787878787878</td>\n",
       "      <td>-0.18170891939594255</td>\n",
       "    </tr>\n",
       "    <tr>\n",
       "      <th>28</th>\n",
       "      <td>Function</td>\n",
       "      <td>-0.7636363636363637</td>\n",
       "      <td>-0.16398847527900026</td>\n",
       "    </tr>\n",
       "    <tr>\n",
       "      <th>29</th>\n",
       "      <td>Function</td>\n",
       "      <td>-0.7393939393939393</td>\n",
       "      <td>-0.1426207035420457</td>\n",
       "    </tr>\n",
       "    <tr>\n",
       "      <th>...</th>\n",
       "      <td>...</td>\n",
       "      <td>...</td>\n",
       "      <td>...</td>\n",
       "    </tr>\n",
       "    <tr>\n",
       "      <th>80</th>\n",
       "      <td>Function</td>\n",
       "      <td>0.49696969696969706</td>\n",
       "      <td>0.24570531825126035</td>\n",
       "    </tr>\n",
       "    <tr>\n",
       "      <th>81</th>\n",
       "      <td>Function</td>\n",
       "      <td>0.5212121212121212</td>\n",
       "      <td>0.19581187561337263</td>\n",
       "    </tr>\n",
       "    <tr>\n",
       "      <th>82</th>\n",
       "      <td>Function</td>\n",
       "      <td>0.5454545454545454</td>\n",
       "      <td>0.14760769014614233</td>\n",
       "    </tr>\n",
       "    <tr>\n",
       "      <th>83</th>\n",
       "      <td>Function</td>\n",
       "      <td>0.5696969696969698</td>\n",
       "      <td>0.10143210555009549</td>\n",
       "    </tr>\n",
       "    <tr>\n",
       "      <th>84</th>\n",
       "      <td>Function</td>\n",
       "      <td>0.593939393939394</td>\n",
       "      <td>0.05759825329391089</td>\n",
       "    </tr>\n",
       "    <tr>\n",
       "      <th>85</th>\n",
       "      <td>Function</td>\n",
       "      <td>0.6181818181818182</td>\n",
       "      <td>0.016390275271801612</td>\n",
       "    </tr>\n",
       "    <tr>\n",
       "      <th>86</th>\n",
       "      <td>Function</td>\n",
       "      <td>0.6424242424242426</td>\n",
       "      <td>-0.021939108942527128</td>\n",
       "    </tr>\n",
       "    <tr>\n",
       "      <th>87</th>\n",
       "      <td>Function</td>\n",
       "      <td>0.6666666666666667</td>\n",
       "      <td>-0.057170666213618736</td>\n",
       "    </tr>\n",
       "    <tr>\n",
       "      <th>88</th>\n",
       "      <td>Function</td>\n",
       "      <td>0.6909090909090909</td>\n",
       "      <td>-0.08912032575171955</td>\n",
       "    </tr>\n",
       "    <tr>\n",
       "      <th>89</th>\n",
       "      <td>Function</td>\n",
       "      <td>0.7151515151515151</td>\n",
       "      <td>-0.11764045188135529</td>\n",
       "    </tr>\n",
       "    <tr>\n",
       "      <th>90</th>\n",
       "      <td>Function</td>\n",
       "      <td>0.7393939393939395</td>\n",
       "      <td>-0.14262070354204587</td>\n",
       "    </tr>\n",
       "    <tr>\n",
       "      <th>91</th>\n",
       "      <td>Function</td>\n",
       "      <td>0.7636363636363637</td>\n",
       "      <td>-0.16398847527900026</td>\n",
       "    </tr>\n",
       "    <tr>\n",
       "      <th>92</th>\n",
       "      <td>Function</td>\n",
       "      <td>0.7878787878787878</td>\n",
       "      <td>-0.18170891939594255</td>\n",
       "    </tr>\n",
       "    <tr>\n",
       "      <th>93</th>\n",
       "      <td>Function</td>\n",
       "      <td>0.8121212121212122</td>\n",
       "      <td>-0.19578455382419704</td>\n",
       "    </tr>\n",
       "    <tr>\n",
       "      <th>94</th>\n",
       "      <td>Function</td>\n",
       "      <td>0.8363636363636362</td>\n",
       "      <td>-0.20625446505275288</td>\n",
       "    </tr>\n",
       "    <tr>\n",
       "      <th>95</th>\n",
       "      <td>Function</td>\n",
       "      <td>0.8606060606060606</td>\n",
       "      <td>-0.2131931201055802</td>\n",
       "    </tr>\n",
       "    <tr>\n",
       "      <th>96</th>\n",
       "      <td>Function</td>\n",
       "      <td>0.884848484848485</td>\n",
       "      <td>-0.21670880598951436</td>\n",
       "    </tr>\n",
       "    <tr>\n",
       "      <th>97</th>\n",
       "      <td>Function</td>\n",
       "      <td>0.909090909090909</td>\n",
       "      <td>-0.21694171921595845</td>\n",
       "    </tr>\n",
       "    <tr>\n",
       "      <th>98</th>\n",
       "      <td>Function</td>\n",
       "      <td>0.9333333333333333</td>\n",
       "      <td>-0.2140617318733032</td>\n",
       "    </tr>\n",
       "    <tr>\n",
       "      <th>99</th>\n",
       "      <td>Function</td>\n",
       "      <td>0.9575757575757577</td>\n",
       "      <td>-0.20826586424931934</td>\n",
       "    </tr>\n",
       "    <tr>\n",
       "      <th>100</th>\n",
       "      <td>Function</td>\n",
       "      <td>0.9818181818181817</td>\n",
       "      <td>-0.19977549713339887</td>\n",
       "    </tr>\n",
       "    <tr>\n",
       "      <th>101</th>\n",
       "      <td>Function</td>\n",
       "      <td>1.006060606060606</td>\n",
       "      <td>-0.18883335963211464</td>\n",
       "    </tr>\n",
       "    <tr>\n",
       "      <th>102</th>\n",
       "      <td>Function</td>\n",
       "      <td>1.0303030303030305</td>\n",
       "      <td>-0.17570033057836118</td>\n",
       "    </tr>\n",
       "    <tr>\n",
       "      <th>103</th>\n",
       "      <td>Function</td>\n",
       "      <td>1.0545454545454545</td>\n",
       "      <td>-0.16065209338041372</td>\n",
       "    </tr>\n",
       "    <tr>\n",
       "      <th>104</th>\n",
       "      <td>Function</td>\n",
       "      <td>1.0787878787878789</td>\n",
       "      <td>-0.14397568542484843</td>\n",
       "    </tr>\n",
       "    <tr>\n",
       "      <th>105</th>\n",
       "      <td>Function</td>\n",
       "      <td>1.1030303030303032</td>\n",
       "      <td>-0.12596598390494798</td>\n",
       "    </tr>\n",
       "    <tr>\n",
       "      <th>106</th>\n",
       "      <td>Function</td>\n",
       "      <td>1.1272727272727272</td>\n",
       "      <td>-0.106922170188949</td>\n",
       "    </tr>\n",
       "    <tr>\n",
       "      <th>107</th>\n",
       "      <td>Function</td>\n",
       "      <td>1.1515151515151516</td>\n",
       "      <td>-0.08714421457173109</td>\n",
       "    </tr>\n",
       "    <tr>\n",
       "      <th>108</th>\n",
       "      <td>Function</td>\n",
       "      <td>1.175757575757576</td>\n",
       "      <td>-0.06692942247711557</td>\n",
       "    </tr>\n",
       "    <tr>\n",
       "      <th>109</th>\n",
       "      <td>Function</td>\n",
       "      <td>1.2</td>\n",
       "      <td>-0.04656908190990291</td>\n",
       "    </tr>\n",
       "  </tbody>\n",
       "</table>\n",
       "<p>110 rows × 3 columns</p>\n",
       "</div>"
      ],
      "text/plain": [
       "          fun                     x                      y\n",
       "0        Data                  -1.0   -0.19178475984314272\n",
       "1        Data   -0.7777777777777778    -0.1747693324677232\n",
       "2        Data   -0.5555555555555556    0.12810273435072683\n",
       "3        Data  -0.33333333333333337     0.5972443588700161\n",
       "4        Data  -0.11111111111111116     0.9493475148569697\n",
       "5        Data   0.11111111111111116     0.9493475148569697\n",
       "6        Data   0.33333333333333326     0.5972443588700164\n",
       "7        Data    0.5555555555555554    0.12810273435072717\n",
       "8        Data    0.7777777777777777   -0.17476933246772314\n",
       "9        Data                   1.0   -0.19178475984314272\n",
       "10   Function                  -1.2   -0.04656908190990291\n",
       "11   Function   -1.1757575757575758   -0.06692942247711572\n",
       "12   Function   -1.1515151515151514   -0.08714421457173124\n",
       "13   Function   -1.1272727272727272     -0.106922170188949\n",
       "14   Function    -1.103030303030303   -0.12596598390494812\n",
       "15   Function   -1.0787878787878786   -0.14397568542484868\n",
       "16   Function   -1.0545454545454545   -0.16065209338041372\n",
       "17   Function   -1.0303030303030303   -0.17570033057836132\n",
       "18   Function    -1.006060606060606   -0.18883335963211464\n",
       "19   Function   -0.9818181818181818    -0.1997754971333988\n",
       "20   Function   -0.9575757575757575   -0.20826586424931942\n",
       "21   Function   -0.9333333333333333    -0.2140617318733032\n",
       "22   Function   -0.9090909090909091   -0.21694171921595845\n",
       "23   Function   -0.8848484848484848   -0.21670880598951436\n",
       "24   Function   -0.8606060606060606    -0.2131931201055802\n",
       "25   Function   -0.8363636363636363   -0.20625446505275297\n",
       "26   Function    -0.812121212121212   -0.19578455382419693\n",
       "27   Function   -0.7878787878787878   -0.18170891939594255\n",
       "28   Function   -0.7636363636363637   -0.16398847527900026\n",
       "29   Function   -0.7393939393939393    -0.1426207035420457\n",
       "..        ...                   ...                    ...\n",
       "80   Function   0.49696969696969706    0.24570531825126035\n",
       "81   Function    0.5212121212121212    0.19581187561337263\n",
       "82   Function    0.5454545454545454    0.14760769014614233\n",
       "83   Function    0.5696969696969698    0.10143210555009549\n",
       "84   Function     0.593939393939394    0.05759825329391089\n",
       "85   Function    0.6181818181818182   0.016390275271801612\n",
       "86   Function    0.6424242424242426  -0.021939108942527128\n",
       "87   Function    0.6666666666666667  -0.057170666213618736\n",
       "88   Function    0.6909090909090909   -0.08912032575171955\n",
       "89   Function    0.7151515151515151   -0.11764045188135529\n",
       "90   Function    0.7393939393939395   -0.14262070354204587\n",
       "91   Function    0.7636363636363637   -0.16398847527900026\n",
       "92   Function    0.7878787878787878   -0.18170891939594255\n",
       "93   Function    0.8121212121212122   -0.19578455382419704\n",
       "94   Function    0.8363636363636362   -0.20625446505275288\n",
       "95   Function    0.8606060606060606    -0.2131931201055802\n",
       "96   Function     0.884848484848485   -0.21670880598951436\n",
       "97   Function     0.909090909090909   -0.21694171921595845\n",
       "98   Function    0.9333333333333333    -0.2140617318733032\n",
       "99   Function    0.9575757575757577   -0.20826586424931934\n",
       "100  Function    0.9818181818181817   -0.19977549713339887\n",
       "101  Function     1.006060606060606   -0.18883335963211464\n",
       "102  Function    1.0303030303030305   -0.17570033057836118\n",
       "103  Function    1.0545454545454545   -0.16065209338041372\n",
       "104  Function    1.0787878787878789   -0.14397568542484843\n",
       "105  Function    1.1030303030303032   -0.12596598390494798\n",
       "106  Function    1.1272727272727272     -0.106922170188949\n",
       "107  Function    1.1515151515151516   -0.08714421457173109\n",
       "108  Function     1.175757575757576   -0.06692942247711557\n",
       "109  Function                   1.2   -0.04656908190990291\n",
       "\n",
       "[110 rows x 3 columns]"
      ]
     },
     "execution_count": 14,
     "metadata": {},
     "output_type": "execute_result"
    }
   ],
   "source": [
    "df0"
   ]
  },
  {
   "cell_type": "code",
   "execution_count": 15,
   "metadata": {},
   "outputs": [
    {
     "data": {
      "application/vnd.vegalite.v2+json": {
       "$schema": "https://vega.github.io/schema/vega-lite/v2.6.0.json",
       "config": {
        "view": {
         "height": 300,
         "width": 400
        }
       },
       "data": {
        "name": "data-4217a6c929eb0a305a8c72e00a387b44"
       },
       "datasets": {
        "data-4217a6c929eb0a305a8c72e00a387b44": [
         {
          "fun": "Data",
          "x": "-1.0",
          "y": "-0.19178475984314272"
         },
         {
          "fun": "Data",
          "x": "-0.7777777777777778",
          "y": "-0.1747693324677232"
         },
         {
          "fun": "Data",
          "x": "-0.5555555555555556",
          "y": "0.12810273435072683"
         },
         {
          "fun": "Data",
          "x": "-0.33333333333333337",
          "y": "0.5972443588700161"
         },
         {
          "fun": "Data",
          "x": "-0.11111111111111116",
          "y": "0.9493475148569697"
         },
         {
          "fun": "Data",
          "x": "0.11111111111111116",
          "y": "0.9493475148569697"
         },
         {
          "fun": "Data",
          "x": "0.33333333333333326",
          "y": "0.5972443588700164"
         },
         {
          "fun": "Data",
          "x": "0.5555555555555554",
          "y": "0.12810273435072717"
         },
         {
          "fun": "Data",
          "x": "0.7777777777777777",
          "y": "-0.17476933246772314"
         },
         {
          "fun": "Data",
          "x": "1.0",
          "y": "-0.19178475984314272"
         },
         {
          "fun": "Function",
          "x": "-1.2",
          "y": "-0.04656908190990291"
         },
         {
          "fun": "Function",
          "x": "-1.1757575757575758",
          "y": "-0.06692942247711572"
         },
         {
          "fun": "Function",
          "x": "-1.1515151515151514",
          "y": "-0.08714421457173124"
         },
         {
          "fun": "Function",
          "x": "-1.1272727272727272",
          "y": "-0.106922170188949"
         },
         {
          "fun": "Function",
          "x": "-1.103030303030303",
          "y": "-0.12596598390494812"
         },
         {
          "fun": "Function",
          "x": "-1.0787878787878786",
          "y": "-0.14397568542484868"
         },
         {
          "fun": "Function",
          "x": "-1.0545454545454545",
          "y": "-0.16065209338041372"
         },
         {
          "fun": "Function",
          "x": "-1.0303030303030303",
          "y": "-0.17570033057836132"
         },
         {
          "fun": "Function",
          "x": "-1.006060606060606",
          "y": "-0.18883335963211464"
         },
         {
          "fun": "Function",
          "x": "-0.9818181818181818",
          "y": "-0.1997754971333988"
         },
         {
          "fun": "Function",
          "x": "-0.9575757575757575",
          "y": "-0.20826586424931942"
         },
         {
          "fun": "Function",
          "x": "-0.9333333333333333",
          "y": "-0.2140617318733032"
         },
         {
          "fun": "Function",
          "x": "-0.9090909090909091",
          "y": "-0.21694171921595845"
         },
         {
          "fun": "Function",
          "x": "-0.8848484848484848",
          "y": "-0.21670880598951436"
         },
         {
          "fun": "Function",
          "x": "-0.8606060606060606",
          "y": "-0.2131931201055802"
         },
         {
          "fun": "Function",
          "x": "-0.8363636363636363",
          "y": "-0.20625446505275297"
         },
         {
          "fun": "Function",
          "x": "-0.812121212121212",
          "y": "-0.19578455382419693"
         },
         {
          "fun": "Function",
          "x": "-0.7878787878787878",
          "y": "-0.18170891939594255"
         },
         {
          "fun": "Function",
          "x": "-0.7636363636363637",
          "y": "-0.16398847527900026"
         },
         {
          "fun": "Function",
          "x": "-0.7393939393939393",
          "y": "-0.1426207035420457"
         },
         {
          "fun": "Function",
          "x": "-0.7151515151515151",
          "y": "-0.11764045188135529"
         },
         {
          "fun": "Function",
          "x": "-0.6909090909090909",
          "y": "-0.08912032575171955"
         },
         {
          "fun": "Function",
          "x": "-0.6666666666666666",
          "y": "-0.05717066621361849"
         },
         {
          "fun": "Function",
          "x": "-0.6424242424242423",
          "y": "-0.021939108942526857"
         },
         {
          "fun": "Function",
          "x": "-0.6181818181818182",
          "y": "0.016390275271801612"
         },
         {
          "fun": "Function",
          "x": "-0.5939393939393939",
          "y": "0.05759825329391105"
         },
         {
          "fun": "Function",
          "x": "-0.5696969696969697",
          "y": "0.10143210555009567"
         },
         {
          "fun": "Function",
          "x": "-0.5454545454545454",
          "y": "0.14760769014614233"
         },
         {
          "fun": "Function",
          "x": "-0.5212121212121211",
          "y": "0.195811875613373"
         },
         {
          "fun": "Function",
          "x": "-0.49696969696969695",
          "y": "0.24570531825126052"
         },
         {
          "fun": "Function",
          "x": "-0.47272727272727266",
          "y": "0.2969255558439767"
         },
         {
          "fun": "Function",
          "x": "-0.4484848484848485",
          "y": "0.34909038564840184"
         },
         {
          "fun": "Function",
          "x": "-0.4242424242424242",
          "y": "0.4018014910310182"
         },
         {
          "fun": "Function",
          "x": "-0.3999999999999999",
          "y": "0.45464827801505636"
         },
         {
          "fun": "Function",
          "x": "-0.37575757575757573",
          "y": "0.507211880326904"
         },
         {
          "fun": "Function",
          "x": "-0.35151515151515145",
          "y": "0.5590692893363356"
         },
         {
          "fun": "Function",
          "x": "-0.32727272727272727",
          "y": "0.6097975635970834"
         },
         {
          "fun": "Function",
          "x": "-0.303030303030303",
          "y": "0.6589780715350266"
         },
         {
          "fun": "Function",
          "x": "-0.2787878787878787",
          "y": "0.7062007202167283"
         },
         {
          "fun": "Function",
          "x": "-0.2545454545454545",
          "y": "0.7510681230705029"
         },
         {
          "fun": "Function",
          "x": "-0.23030303030303023",
          "y": "0.7931996599281512"
         },
         {
          "fun": "Function",
          "x": "-0.20606060606060606",
          "y": "0.8322353838036256"
         },
         {
          "fun": "Function",
          "x": "-0.18181818181818188",
          "y": "0.8678397304140947"
         },
         {
          "fun": "Function",
          "x": "-0.15757575757575748",
          "y": "0.899704988561377"
         },
         {
          "fun": "Function",
          "x": "-0.1333333333333333",
          "y": "0.9275544921032948"
         },
         {
          "fun": "Function",
          "x": "-0.10909090909090913",
          "y": "0.9511454973247854"
         },
         {
          "fun": "Function",
          "x": "-0.08484848484848473",
          "y": "0.9702717130313825"
         },
         {
          "fun": "Function",
          "x": "-0.06060606060606055",
          "y": "0.9847654545914649"
         },
         {
          "fun": "Function",
          "x": "-0.036363636363636376",
          "y": "0.9944993974020491"
         },
         {
          "fun": "Function",
          "x": "-0.012121212121211977",
          "y": "0.999387909795235"
         },
         {
          "fun": "Function",
          "x": "0.0121212121212122",
          "y": "0.9993879097952348"
         },
         {
          "fun": "Function",
          "x": "0.036363636363636376",
          "y": "0.9944993974020491"
         },
         {
          "fun": "Function",
          "x": "0.06060606060606055",
          "y": "0.9847654545914649"
         },
         {
          "fun": "Function",
          "x": "0.08484848484848495",
          "y": "0.9702717130313823"
         },
         {
          "fun": "Function",
          "x": "0.10909090909090913",
          "y": "0.9511454973247854"
         },
         {
          "fun": "Function",
          "x": "0.1333333333333333",
          "y": "0.9275544921032948"
         },
         {
          "fun": "Function",
          "x": "0.1575757575757577",
          "y": "0.8997049885613767"
         },
         {
          "fun": "Function",
          "x": "0.18181818181818188",
          "y": "0.8678397304140947"
         },
         {
          "fun": "Function",
          "x": "0.20606060606060606",
          "y": "0.8322353838036256"
         },
         {
          "fun": "Function",
          "x": "0.23030303030303045",
          "y": "0.7931996599281508"
         },
         {
          "fun": "Function",
          "x": "0.25454545454545463",
          "y": "0.7510681230705026"
         },
         {
          "fun": "Function",
          "x": "0.2787878787878788",
          "y": "0.7062007202167282"
         },
         {
          "fun": "Function",
          "x": "0.303030303030303",
          "y": "0.6589780715350266"
         },
         {
          "fun": "Function",
          "x": "0.3272727272727274",
          "y": "0.609797563597083"
         },
         {
          "fun": "Function",
          "x": "0.35151515151515156",
          "y": "0.5590692893363354"
         },
         {
          "fun": "Function",
          "x": "0.37575757575757573",
          "y": "0.507211880326904"
         },
         {
          "fun": "Function",
          "x": "0.40000000000000013",
          "y": "0.4546482780150558"
         },
         {
          "fun": "Function",
          "x": "0.4242424242424243",
          "y": "0.40180149103101803"
         },
         {
          "fun": "Function",
          "x": "0.4484848484848485",
          "y": "0.34909038564840184"
         },
         {
          "fun": "Function",
          "x": "0.47272727272727266",
          "y": "0.2969255558439767"
         },
         {
          "fun": "Function",
          "x": "0.49696969696969706",
          "y": "0.24570531825126035"
         },
         {
          "fun": "Function",
          "x": "0.5212121212121212",
          "y": "0.19581187561337263"
         },
         {
          "fun": "Function",
          "x": "0.5454545454545454",
          "y": "0.14760769014614233"
         },
         {
          "fun": "Function",
          "x": "0.5696969696969698",
          "y": "0.10143210555009549"
         },
         {
          "fun": "Function",
          "x": "0.593939393939394",
          "y": "0.05759825329391089"
         },
         {
          "fun": "Function",
          "x": "0.6181818181818182",
          "y": "0.016390275271801612"
         },
         {
          "fun": "Function",
          "x": "0.6424242424242426",
          "y": "-0.021939108942527128"
         },
         {
          "fun": "Function",
          "x": "0.6666666666666667",
          "y": "-0.057170666213618736"
         },
         {
          "fun": "Function",
          "x": "0.6909090909090909",
          "y": "-0.08912032575171955"
         },
         {
          "fun": "Function",
          "x": "0.7151515151515151",
          "y": "-0.11764045188135529"
         },
         {
          "fun": "Function",
          "x": "0.7393939393939395",
          "y": "-0.14262070354204587"
         },
         {
          "fun": "Function",
          "x": "0.7636363636363637",
          "y": "-0.16398847527900026"
         },
         {
          "fun": "Function",
          "x": "0.7878787878787878",
          "y": "-0.18170891939594255"
         },
         {
          "fun": "Function",
          "x": "0.8121212121212122",
          "y": "-0.19578455382419704"
         },
         {
          "fun": "Function",
          "x": "0.8363636363636362",
          "y": "-0.20625446505275288"
         },
         {
          "fun": "Function",
          "x": "0.8606060606060606",
          "y": "-0.2131931201055802"
         },
         {
          "fun": "Function",
          "x": "0.884848484848485",
          "y": "-0.21670880598951436"
         },
         {
          "fun": "Function",
          "x": "0.909090909090909",
          "y": "-0.21694171921595845"
         },
         {
          "fun": "Function",
          "x": "0.9333333333333333",
          "y": "-0.2140617318733032"
         },
         {
          "fun": "Function",
          "x": "0.9575757575757577",
          "y": "-0.20826586424931934"
         },
         {
          "fun": "Function",
          "x": "0.9818181818181817",
          "y": "-0.19977549713339887"
         },
         {
          "fun": "Function",
          "x": "1.006060606060606",
          "y": "-0.18883335963211464"
         },
         {
          "fun": "Function",
          "x": "1.0303030303030305",
          "y": "-0.17570033057836118"
         },
         {
          "fun": "Function",
          "x": "1.0545454545454545",
          "y": "-0.16065209338041372"
         },
         {
          "fun": "Function",
          "x": "1.0787878787878789",
          "y": "-0.14397568542484843"
         },
         {
          "fun": "Function",
          "x": "1.1030303030303032",
          "y": "-0.12596598390494798"
         },
         {
          "fun": "Function",
          "x": "1.1272727272727272",
          "y": "-0.106922170188949"
         },
         {
          "fun": "Function",
          "x": "1.1515151515151516",
          "y": "-0.08714421457173109"
         },
         {
          "fun": "Function",
          "x": "1.175757575757576",
          "y": "-0.06692942247711557"
         },
         {
          "fun": "Function",
          "x": "1.2",
          "y": "-0.04656908190990291"
         }
        ]
       },
       "encoding": {
        "color": {
         "field": "fun",
         "type": "nominal"
        },
        "detail": {
         "field": "fun",
         "type": "nominal"
        },
        "x": {
         "field": "x",
         "type": "quantitative"
        },
        "y": {
         "field": "y",
         "type": "quantitative"
        }
       },
       "mark": "point",
       "transform": [
        {
         "filter": "(datum.fun === 'Data')"
        }
       ]
      },
      "image/png": "[encoded data removed]",
      "text/plain": [
       "<VegaLite 2 object>\n",
       "\n",
       "If you see this message, it means the renderer has not been properly enabled\n",
       "for the frontend that you are using. For more information, see\n",
       "https://altair-viz.github.io/user_guide/troubleshooting.html\n"
      ]
     },
     "execution_count": 15,
     "metadata": {},
     "output_type": "execute_result"
    }
   ],
   "source": [
    "ch0 = alt.Chart(df0).mark_point().encode(x='x:Q',y='y:Q',color='fun:N',detail='fun').transform_filter(datum.fun=='Data')\n",
    "ch0"
   ]
  },
  {
   "cell_type": "code",
   "execution_count": 16,
   "metadata": {},
   "outputs": [],
   "source": [
    "sl = alt.binding_range(min=1,max=3,step=2)\n",
    "single = alt.selection_single(bind=sl, fields=['k'], name='Order')"
   ]
  },
  {
   "cell_type": "code",
   "execution_count": 17,
   "metadata": {},
   "outputs": [
    {
     "data": {
      "application/vnd.vegalite.v2+json": {
       "$schema": "https://vega.github.io/schema/vega-lite/v2.6.0.json",
       "config": {
        "view": {
         "height": 300,
         "width": 400
        }
       },
       "datasets": {
        "data-373735f976f471b91159544507e25ff8": [
         {
          "extrap": "Linear",
          "k": 1,
          "value": -0.20709864448102033,
          "x": -1.2
         },
         {
          "extrap": "Linear",
          "k": 1,
          "value": -0.20524241604006546,
          "x": -1.1757575757575758
         },
         {
          "extrap": "Linear",
          "k": 1,
          "value": -0.2033861875991106,
          "x": -1.1515151515151514
         },
         {
          "extrap": "Linear",
          "k": 1,
          "value": -0.20152995915815572,
          "x": -1.1272727272727272
         },
         {
          "extrap": "Linear",
          "k": 1,
          "value": -0.1996737307172009,
          "x": -1.103030303030303
         },
         {
          "extrap": "Linear",
          "k": 1,
          "value": -0.19781750227624598,
          "x": -1.0787878787878786
         },
         {
          "extrap": "Linear",
          "k": 1,
          "value": -0.19596127383529116,
          "x": -1.0545454545454545
         },
         {
          "extrap": "Linear",
          "k": 1,
          "value": -0.1941050453943363,
          "x": -1.0303030303030303
         },
         {
          "extrap": "Linear",
          "k": 1,
          "value": -0.19224881695338142,
          "x": -1.006060606060606
         },
         {
          "extrap": "Linear",
          "k": 1,
          "value": -0.19039258851242657,
          "x": -0.9818181818181818
         },
         {
          "extrap": "Linear",
          "k": 1,
          "value": -0.1885363600714717,
          "x": -0.9575757575757575
         },
         {
          "extrap": "Linear",
          "k": 1,
          "value": -0.18668013163051686,
          "x": -0.9333333333333333
         },
         {
          "extrap": "Linear",
          "k": 1,
          "value": -0.18482390318956202,
          "x": -0.9090909090909091
         },
         {
          "extrap": "Linear",
          "k": 1,
          "value": -0.18296767474860715,
          "x": -0.8848484848484848
         },
         {
          "extrap": "Linear",
          "k": 1,
          "value": -0.1811114463076523,
          "x": -0.8606060606060606
         },
         {
          "extrap": "Linear",
          "k": 1,
          "value": -0.1792552178666974,
          "x": -0.8363636363636363
         },
         {
          "extrap": "Linear",
          "k": 1,
          "value": -0.1773989894257426,
          "x": -0.812121212121212
         },
         {
          "extrap": "Linear",
          "k": 1,
          "value": -0.1755427609847877,
          "x": -0.7878787878787878
         },
         {
          "extrap": "Linear",
          "k": 1,
          "value": -0.15549565548836733,
          "x": -0.7636363636363637
         },
         {
          "extrap": "Linear",
          "k": 1,
          "value": -0.12245506638089985,
          "x": -0.7393939393939393
         },
         {
          "extrap": "Linear",
          "k": 1,
          "value": -0.08941447727343262,
          "x": -0.7151515151515151
         },
         {
          "extrap": "Linear",
          "k": 1,
          "value": -0.05637388816596547,
          "x": -0.6909090909090909
         },
         {
          "extrap": "Linear",
          "k": 1,
          "value": -0.02333329905849811,
          "x": -0.6666666666666666
         },
         {
          "extrap": "Linear",
          "k": 1,
          "value": 0.009707290048969183,
          "x": -0.6424242424242423
         },
         {
          "extrap": "Linear",
          "k": 1,
          "value": 0.04274787915643639,
          "x": -0.6181818181818182
         },
         {
          "extrap": "Linear",
          "k": 1,
          "value": 0.07578846826390374,
          "x": -0.5939393939393939
         },
         {
          "extrap": "Linear",
          "k": 1,
          "value": 0.10882905737137089,
          "x": -0.5696969696969697
         },
         {
          "extrap": "Linear",
          "k": 1,
          "value": 0.14942735364705836,
          "x": -0.5454545454545454
         },
         {
          "extrap": "Linear",
          "k": 1,
          "value": 0.20060643995825345,
          "x": -0.5212121212121211
         },
         {
          "extrap": "Linear",
          "k": 1,
          "value": 0.25178552626944856,
          "x": -0.49696969696969695
         },
         {
          "extrap": "Linear",
          "k": 1,
          "value": 0.3029646125806439,
          "x": -0.47272727272727266
         },
         {
          "extrap": "Linear",
          "k": 1,
          "value": 0.35414369889183905,
          "x": -0.4484848484848485
         },
         {
          "extrap": "Linear",
          "k": 1,
          "value": 0.40532278520303433,
          "x": -0.4242424242424242
         },
         {
          "extrap": "Linear",
          "k": 1,
          "value": 0.45650187151422944,
          "x": -0.3999999999999999
         },
         {
          "extrap": "Linear",
          "k": 1,
          "value": 0.5076809578254246,
          "x": -0.37575757575757573
         },
         {
          "extrap": "Linear",
          "k": 1,
          "value": 0.5588600441366198,
          "x": -0.35151515151515145
         },
         {
          "extrap": "Linear",
          "k": 1,
          "value": 0.6068471722151149,
          "x": -0.32727272727272727
         },
         {
          "extrap": "Linear",
          "k": 1,
          "value": 0.6452584255955099,
          "x": -0.303030303030303
         },
         {
          "extrap": "Linear",
          "k": 1,
          "value": 0.6836696789759049,
          "x": -0.2787878787878787
         },
         {
          "extrap": "Linear",
          "k": 1,
          "value": 0.7220809323562997,
          "x": -0.2545454545454545
         },
         {
          "extrap": "Linear",
          "k": 1,
          "value": 0.7604921857366946,
          "x": -0.23030303030303023
         },
         {
          "extrap": "Linear",
          "k": 1,
          "value": 0.7989034391170895,
          "x": -0.20606060606060606
         },
         {
          "extrap": "Linear",
          "k": 1,
          "value": 0.8373146924974844,
          "x": -0.18181818181818188
         },
         {
          "extrap": "Linear",
          "k": 1,
          "value": 0.8757259458778796,
          "x": -0.15757575757575748
         },
         {
          "extrap": "Linear",
          "k": 1,
          "value": 0.9141371992582744,
          "x": -0.1333333333333333
         },
         {
          "extrap": "Linear",
          "k": 1,
          "value": 0.9493475148569697,
          "x": -0.10909090909090913
         },
         {
          "extrap": "Linear",
          "k": 1,
          "value": 0.9493475148569697,
          "x": -0.08484848484848473
         },
         {
          "extrap": "Linear",
          "k": 1,
          "value": 0.9493475148569697,
          "x": -0.06060606060606055
         },
         {
          "extrap": "Linear",
          "k": 1,
          "value": 0.9493475148569697,
          "x": -0.036363636363636376
         },
         {
          "extrap": "Linear",
          "k": 1,
          "value": 0.9493475148569697,
          "x": -0.012121212121211977
         },
         {
          "extrap": "Linear",
          "k": 1,
          "value": 0.9493475148569697,
          "x": 0.0121212121212122
         },
         {
          "extrap": "Linear",
          "k": 1,
          "value": 0.9493475148569697,
          "x": 0.036363636363636376
         },
         {
          "extrap": "Linear",
          "k": 1,
          "value": 0.9493475148569697,
          "x": 0.06060606060606055
         },
         {
          "extrap": "Linear",
          "k": 1,
          "value": 0.9493475148569697,
          "x": 0.08484848484848495
         },
         {
          "extrap": "Linear",
          "k": 1,
          "value": 0.9493475148569697,
          "x": 0.10909090909090913
         },
         {
          "extrap": "Linear",
          "k": 1,
          "value": 0.9141371992582744,
          "x": 0.1333333333333333
         },
         {
          "extrap": "Linear",
          "k": 1,
          "value": 0.8757259458778791,
          "x": 0.1575757575757577
         },
         {
          "extrap": "Linear",
          "k": 1,
          "value": 0.8373146924974845,
          "x": 0.18181818181818188
         },
         {
          "extrap": "Linear",
          "k": 1,
          "value": 0.7989034391170895,
          "x": 0.20606060606060606
         },
         {
          "extrap": "Linear",
          "k": 1,
          "value": 0.7604921857366944,
          "x": 0.23030303030303045
         },
         {
          "extrap": "Linear",
          "k": 1,
          "value": 0.7220809323562998,
          "x": 0.25454545454545463
         },
         {
          "extrap": "Linear",
          "k": 1,
          "value": 0.6836696789759048,
          "x": 0.2787878787878788
         },
         {
          "extrap": "Linear",
          "k": 1,
          "value": 0.64525842559551,
          "x": 0.303030303030303
         },
         {
          "extrap": "Linear",
          "k": 1,
          "value": 0.6068471722151147,
          "x": 0.3272727272727274
         },
         {
          "extrap": "Linear",
          "k": 1,
          "value": 0.5588600441366199,
          "x": 0.35151515151515156
         },
         {
          "extrap": "Linear",
          "k": 1,
          "value": 0.507680957825425,
          "x": 0.37575757575757573
         },
         {
          "extrap": "Linear",
          "k": 1,
          "value": 0.4565018715142293,
          "x": 0.40000000000000013
         },
         {
          "extrap": "Linear",
          "k": 1,
          "value": 0.40532278520303433,
          "x": 0.4242424242424243
         },
         {
          "extrap": "Linear",
          "k": 1,
          "value": 0.35414369889183905,
          "x": 0.4484848484848485
         },
         {
          "extrap": "Linear",
          "k": 1,
          "value": 0.3029646125806442,
          "x": 0.47272727272727266
         },
         {
          "extrap": "Linear",
          "k": 1,
          "value": 0.25178552626944883,
          "x": 0.49696969696969706
         },
         {
          "extrap": "Linear",
          "k": 1,
          "value": 0.20060643995825356,
          "x": 0.5212121212121212
         },
         {
          "extrap": "Linear",
          "k": 1,
          "value": 0.14942735364705867,
          "x": 0.5454545454545454
         },
         {
          "extrap": "Linear",
          "k": 1,
          "value": 0.10882905737137101,
          "x": 0.5696969696969698
         },
         {
          "extrap": "Linear",
          "k": 1,
          "value": 0.0757884682639039,
          "x": 0.593939393939394
         },
         {
          "extrap": "Linear",
          "k": 1,
          "value": 0.04274787915643679,
          "x": 0.6181818181818182
         },
         {
          "extrap": "Linear",
          "k": 1,
          "value": 0.009707290048969128,
          "x": 0.6424242424242426
         },
         {
          "extrap": "Linear",
          "k": 1,
          "value": -0.023333299058497986,
          "x": 0.6666666666666667
         },
         {
          "extrap": "Linear",
          "k": 1,
          "value": -0.05637388816596537,
          "x": 0.6909090909090909
         },
         {
          "extrap": "Linear",
          "k": 1,
          "value": -0.08941447727343249,
          "x": 0.7151515151515151
         },
         {
          "extrap": "Linear",
          "k": 1,
          "value": -0.12245506638090013,
          "x": 0.7393939393939395
         },
         {
          "extrap": "Linear",
          "k": 1,
          "value": -0.15549565548836725,
          "x": 0.7636363636363637
         },
         {
          "extrap": "Linear",
          "k": 1,
          "value": -0.17554276098478766,
          "x": 0.7878787878787878
         },
         {
          "extrap": "Linear",
          "k": 1,
          "value": -0.17739898942574253,
          "x": 0.8121212121212122
         },
         {
          "extrap": "Linear",
          "k": 1,
          "value": -0.17925521786669738,
          "x": 0.8363636363636362
         },
         {
          "extrap": "Linear",
          "k": 1,
          "value": -0.18111144630765225,
          "x": 0.8606060606060606
         },
         {
          "extrap": "Linear",
          "k": 1,
          "value": -0.18296767474860715,
          "x": 0.884848484848485
         },
         {
          "extrap": "Linear",
          "k": 1,
          "value": -0.184823903189562,
          "x": 0.909090909090909
         },
         {
          "extrap": "Linear",
          "k": 1,
          "value": -0.18668013163051683,
          "x": 0.9333333333333333
         },
         {
          "extrap": "Linear",
          "k": 1,
          "value": -0.18853636007147173,
          "x": 0.9575757575757577
         },
         {
          "extrap": "Linear",
          "k": 1,
          "value": -0.19039258851242657,
          "x": 0.9818181818181817
         },
         {
          "extrap": "Linear",
          "k": 1,
          "value": -0.19224881695338145,
          "x": 1.006060606060606
         },
         {
          "extrap": "Linear",
          "k": 1,
          "value": -0.19410504539433632,
          "x": 1.0303030303030305
         },
         {
          "extrap": "Linear",
          "k": 1,
          "value": -0.1959612738352912,
          "x": 1.0545454545454545
         },
         {
          "extrap": "Linear",
          "k": 1,
          "value": -0.19781750227624606,
          "x": 1.0787878787878789
         },
         {
          "extrap": "Linear",
          "k": 1,
          "value": -0.1996737307172009,
          "x": 1.1030303030303032
         },
         {
          "extrap": "Linear",
          "k": 1,
          "value": -0.20152995915815575,
          "x": 1.1272727272727272
         },
         {
          "extrap": "Linear",
          "k": 1,
          "value": -0.2033861875991106,
          "x": 1.1515151515151516
         },
         {
          "extrap": "Linear",
          "k": 1,
          "value": -0.2052424160400655,
          "x": 1.175757575757576
         },
         {
          "extrap": "Linear",
          "k": 1,
          "value": -0.20709864448102033,
          "x": 1.2
         },
         {
          "extrap": "Constant",
          "k": 1,
          "value": 0,
          "x": -1.2
         },
         {
          "extrap": "Constant",
          "k": 1,
          "value": 0,
          "x": -1.1757575757575758
         },
         {
          "extrap": "Constant",
          "k": 1,
          "value": 0,
          "x": -1.1515151515151514
         },
         {
          "extrap": "Constant",
          "k": 1,
          "value": 0,
          "x": -1.1272727272727272
         },
         {
          "extrap": "Constant",
          "k": 1,
          "value": 0,
          "x": -1.103030303030303
         },
         {
          "extrap": "Constant",
          "k": 1,
          "value": 0,
          "x": -1.0787878787878786
         },
         {
          "extrap": "Constant",
          "k": 1,
          "value": 0,
          "x": -1.0545454545454545
         },
         {
          "extrap": "Constant",
          "k": 1,
          "value": 0,
          "x": -1.0303030303030303
         },
         {
          "extrap": "Constant",
          "k": 1,
          "value": 0,
          "x": -1.006060606060606
         },
         {
          "extrap": "Constant",
          "k": 1,
          "value": -0.19039258851242657,
          "x": -0.9818181818181818
         },
         {
          "extrap": "Constant",
          "k": 1,
          "value": -0.1885363600714717,
          "x": -0.9575757575757575
         },
         {
          "extrap": "Constant",
          "k": 1,
          "value": -0.18668013163051686,
          "x": -0.9333333333333333
         },
         {
          "extrap": "Constant",
          "k": 1,
          "value": -0.18482390318956202,
          "x": -0.9090909090909091
         },
         {
          "extrap": "Constant",
          "k": 1,
          "value": -0.18296767474860715,
          "x": -0.8848484848484848
         },
         {
          "extrap": "Constant",
          "k": 1,
          "value": -0.1811114463076523,
          "x": -0.8606060606060606
         },
         {
          "extrap": "Constant",
          "k": 1,
          "value": -0.1792552178666974,
          "x": -0.8363636363636363
         },
         {
          "extrap": "Constant",
          "k": 1,
          "value": -0.1773989894257426,
          "x": -0.812121212121212
         },
         {
          "extrap": "Constant",
          "k": 1,
          "value": -0.1755427609847877,
          "x": -0.7878787878787878
         },
         {
          "extrap": "Constant",
          "k": 1,
          "value": -0.15549565548836733,
          "x": -0.7636363636363637
         },
         {
          "extrap": "Constant",
          "k": 1,
          "value": -0.12245506638089985,
          "x": -0.7393939393939393
         },
         {
          "extrap": "Constant",
          "k": 1,
          "value": -0.08941447727343262,
          "x": -0.7151515151515151
         },
         {
          "extrap": "Constant",
          "k": 1,
          "value": -0.05637388816596547,
          "x": -0.6909090909090909
         },
         {
          "extrap": "Constant",
          "k": 1,
          "value": -0.02333329905849811,
          "x": -0.6666666666666666
         },
         {
          "extrap": "Constant",
          "k": 1,
          "value": 0.009707290048969183,
          "x": -0.6424242424242423
         },
         {
          "extrap": "Constant",
          "k": 1,
          "value": 0.04274787915643639,
          "x": -0.6181818181818182
         },
         {
          "extrap": "Constant",
          "k": 1,
          "value": 0.07578846826390374,
          "x": -0.5939393939393939
         },
         {
          "extrap": "Constant",
          "k": 1,
          "value": 0.10882905737137089,
          "x": -0.5696969696969697
         },
         {
          "extrap": "Constant",
          "k": 1,
          "value": 0.14942735364705836,
          "x": -0.5454545454545454
         },
         {
          "extrap": "Constant",
          "k": 1,
          "value": 0.20060643995825345,
          "x": -0.5212121212121211
         },
         {
          "extrap": "Constant",
          "k": 1,
          "value": 0.25178552626944856,
          "x": -0.49696969696969695
         },
         {
          "extrap": "Constant",
          "k": 1,
          "value": 0.3029646125806439,
          "x": -0.47272727272727266
         },
         {
          "extrap": "Constant",
          "k": 1,
          "value": 0.35414369889183905,
          "x": -0.4484848484848485
         },
         {
          "extrap": "Constant",
          "k": 1,
          "value": 0.40532278520303433,
          "x": -0.4242424242424242
         },
         {
          "extrap": "Constant",
          "k": 1,
          "value": 0.45650187151422944,
          "x": -0.3999999999999999
         },
         {
          "extrap": "Constant",
          "k": 1,
          "value": 0.5076809578254246,
          "x": -0.37575757575757573
         },
         {
          "extrap": "Constant",
          "k": 1,
          "value": 0.5588600441366198,
          "x": -0.35151515151515145
         },
         {
          "extrap": "Constant",
          "k": 1,
          "value": 0.6068471722151149,
          "x": -0.32727272727272727
         },
         {
          "extrap": "Constant",
          "k": 1,
          "value": 0.6452584255955099,
          "x": -0.303030303030303
         },
         {
          "extrap": "Constant",
          "k": 1,
          "value": 0.6836696789759049,
          "x": -0.2787878787878787
         },
         {
          "extrap": "Constant",
          "k": 1,
          "value": 0.7220809323562997,
          "x": -0.2545454545454545
         },
         {
          "extrap": "Constant",
          "k": 1,
          "value": 0.7604921857366946,
          "x": -0.23030303030303023
         },
         {
          "extrap": "Constant",
          "k": 1,
          "value": 0.7989034391170895,
          "x": -0.20606060606060606
         },
         {
          "extrap": "Constant",
          "k": 1,
          "value": 0.8373146924974844,
          "x": -0.18181818181818188
         },
         {
          "extrap": "Constant",
          "k": 1,
          "value": 0.8757259458778796,
          "x": -0.15757575757575748
         },
         {
          "extrap": "Constant",
          "k": 1,
          "value": 0.9141371992582744,
          "x": -0.1333333333333333
         },
         {
          "extrap": "Constant",
          "k": 1,
          "value": 0.9493475148569697,
          "x": -0.10909090909090913
         },
         {
          "extrap": "Constant",
          "k": 1,
          "value": 0.9493475148569697,
          "x": -0.08484848484848473
         },
         {
          "extrap": "Constant",
          "k": 1,
          "value": 0.9493475148569697,
          "x": -0.06060606060606055
         },
         {
          "extrap": "Constant",
          "k": 1,
          "value": 0.9493475148569697,
          "x": -0.036363636363636376
         },
         {
          "extrap": "Constant",
          "k": 1,
          "value": 0.9493475148569697,
          "x": -0.012121212121211977
         },
         {
          "extrap": "Constant",
          "k": 1,
          "value": 0.9493475148569697,
          "x": 0.0121212121212122
         },
         {
          "extrap": "Constant",
          "k": 1,
          "value": 0.9493475148569697,
          "x": 0.036363636363636376
         },
         {
          "extrap": "Constant",
          "k": 1,
          "value": 0.9493475148569697,
          "x": 0.06060606060606055
         },
         {
          "extrap": "Constant",
          "k": 1,
          "value": 0.9493475148569697,
          "x": 0.08484848484848495
         },
         {
          "extrap": "Constant",
          "k": 1,
          "value": 0.9493475148569697,
          "x": 0.10909090909090913
         },
         {
          "extrap": "Constant",
          "k": 1,
          "value": 0.9141371992582744,
          "x": 0.1333333333333333
         },
         {
          "extrap": "Constant",
          "k": 1,
          "value": 0.8757259458778791,
          "x": 0.1575757575757577
         },
         {
          "extrap": "Constant",
          "k": 1,
          "value": 0.8373146924974845,
          "x": 0.18181818181818188
         },
         {
          "extrap": "Constant",
          "k": 1,
          "value": 0.7989034391170895,
          "x": 0.20606060606060606
         },
         {
          "extrap": "Constant",
          "k": 1,
          "value": 0.7604921857366944,
          "x": 0.23030303030303045
         },
         {
          "extrap": "Constant",
          "k": 1,
          "value": 0.7220809323562998,
          "x": 0.25454545454545463
         },
         {
          "extrap": "Constant",
          "k": 1,
          "value": 0.6836696789759048,
          "x": 0.2787878787878788
         },
         {
          "extrap": "Constant",
          "k": 1,
          "value": 0.64525842559551,
          "x": 0.303030303030303
         },
         {
          "extrap": "Constant",
          "k": 1,
          "value": 0.6068471722151147,
          "x": 0.3272727272727274
         },
         {
          "extrap": "Constant",
          "k": 1,
          "value": 0.5588600441366199,
          "x": 0.35151515151515156
         },
         {
          "extrap": "Constant",
          "k": 1,
          "value": 0.507680957825425,
          "x": 0.37575757575757573
         },
         {
          "extrap": "Constant",
          "k": 1,
          "value": 0.4565018715142293,
          "x": 0.40000000000000013
         },
         {
          "extrap": "Constant",
          "k": 1,
          "value": 0.40532278520303433,
          "x": 0.4242424242424243
         },
         {
          "extrap": "Constant",
          "k": 1,
          "value": 0.35414369889183905,
          "x": 0.4484848484848485
         },
         {
          "extrap": "Constant",
          "k": 1,
          "value": 0.3029646125806442,
          "x": 0.47272727272727266
         },
         {
          "extrap": "Constant",
          "k": 1,
          "value": 0.25178552626944883,
          "x": 0.49696969696969706
         },
         {
          "extrap": "Constant",
          "k": 1,
          "value": 0.20060643995825356,
          "x": 0.5212121212121212
         },
         {
          "extrap": "Constant",
          "k": 1,
          "value": 0.14942735364705867,
          "x": 0.5454545454545454
         },
         {
          "extrap": "Constant",
          "k": 1,
          "value": 0.10882905737137101,
          "x": 0.5696969696969698
         },
         {
          "extrap": "Constant",
          "k": 1,
          "value": 0.0757884682639039,
          "x": 0.593939393939394
         },
         {
          "extrap": "Constant",
          "k": 1,
          "value": 0.04274787915643679,
          "x": 0.6181818181818182
         },
         {
          "extrap": "Constant",
          "k": 1,
          "value": 0.009707290048969128,
          "x": 0.6424242424242426
         },
         {
          "extrap": "Constant",
          "k": 1,
          "value": -0.023333299058497986,
          "x": 0.6666666666666667
         },
         {
          "extrap": "Constant",
          "k": 1,
          "value": -0.05637388816596537,
          "x": 0.6909090909090909
         },
         {
          "extrap": "Constant",
          "k": 1,
          "value": -0.08941447727343249,
          "x": 0.7151515151515151
         },
         {
          "extrap": "Constant",
          "k": 1,
          "value": -0.12245506638090013,
          "x": 0.7393939393939395
         },
         {
          "extrap": "Constant",
          "k": 1,
          "value": -0.15549565548836725,
          "x": 0.7636363636363637
         },
         {
          "extrap": "Constant",
          "k": 1,
          "value": -0.17554276098478766,
          "x": 0.7878787878787878
         },
         {
          "extrap": "Constant",
          "k": 1,
          "value": -0.17739898942574253,
          "x": 0.8121212121212122
         },
         {
          "extrap": "Constant",
          "k": 1,
          "value": -0.17925521786669738,
          "x": 0.8363636363636362
         },
         {
          "extrap": "Constant",
          "k": 1,
          "value": -0.18111144630765225,
          "x": 0.8606060606060606
         },
         {
          "extrap": "Constant",
          "k": 1,
          "value": -0.18296767474860715,
          "x": 0.884848484848485
         },
         {
          "extrap": "Constant",
          "k": 1,
          "value": -0.184823903189562,
          "x": 0.909090909090909
         },
         {
          "extrap": "Constant",
          "k": 1,
          "value": -0.18668013163051683,
          "x": 0.9333333333333333
         },
         {
          "extrap": "Constant",
          "k": 1,
          "value": -0.18853636007147173,
          "x": 0.9575757575757577
         },
         {
          "extrap": "Constant",
          "k": 1,
          "value": -0.19039258851242657,
          "x": 0.9818181818181817
         },
         {
          "extrap": "Constant",
          "k": 1,
          "value": 0,
          "x": 1.006060606060606
         },
         {
          "extrap": "Constant",
          "k": 1,
          "value": 0,
          "x": 1.0303030303030305
         },
         {
          "extrap": "Constant",
          "k": 1,
          "value": 0,
          "x": 1.0545454545454545
         },
         {
          "extrap": "Constant",
          "k": 1,
          "value": 0,
          "x": 1.0787878787878789
         },
         {
          "extrap": "Constant",
          "k": 1,
          "value": 0,
          "x": 1.1030303030303032
         },
         {
          "extrap": "Constant",
          "k": 1,
          "value": 0,
          "x": 1.1272727272727272
         },
         {
          "extrap": "Constant",
          "k": 1,
          "value": 0,
          "x": 1.1515151515151516
         },
         {
          "extrap": "Constant",
          "k": 1,
          "value": 0,
          "x": 1.175757575757576
         },
         {
          "extrap": "Constant",
          "k": 1,
          "value": 0,
          "x": 1.2
         },
         {
          "extrap": "Nearest",
          "k": 1,
          "value": -0.19178475984314272,
          "x": -1.2
         },
         {
          "extrap": "Nearest",
          "k": 1,
          "value": -0.19178475984314272,
          "x": -1.1757575757575758
         },
         {
          "extrap": "Nearest",
          "k": 1,
          "value": -0.19178475984314272,
          "x": -1.1515151515151514
         },
         {
          "extrap": "Nearest",
          "k": 1,
          "value": -0.19178475984314272,
          "x": -1.1272727272727272
         },
         {
          "extrap": "Nearest",
          "k": 1,
          "value": -0.19178475984314272,
          "x": -1.103030303030303
         },
         {
          "extrap": "Nearest",
          "k": 1,
          "value": -0.19178475984314272,
          "x": -1.0787878787878786
         },
         {
          "extrap": "Nearest",
          "k": 1,
          "value": -0.19178475984314272,
          "x": -1.0545454545454545
         },
         {
          "extrap": "Nearest",
          "k": 1,
          "value": -0.19178475984314272,
          "x": -1.0303030303030303
         },
         {
          "extrap": "Nearest",
          "k": 1,
          "value": -0.19178475984314272,
          "x": -1.006060606060606
         },
         {
          "extrap": "Nearest",
          "k": 1,
          "value": -0.19039258851242657,
          "x": -0.9818181818181818
         },
         {
          "extrap": "Nearest",
          "k": 1,
          "value": -0.1885363600714717,
          "x": -0.9575757575757575
         },
         {
          "extrap": "Nearest",
          "k": 1,
          "value": -0.18668013163051686,
          "x": -0.9333333333333333
         },
         {
          "extrap": "Nearest",
          "k": 1,
          "value": -0.18482390318956202,
          "x": -0.9090909090909091
         },
         {
          "extrap": "Nearest",
          "k": 1,
          "value": -0.18296767474860715,
          "x": -0.8848484848484848
         },
         {
          "extrap": "Nearest",
          "k": 1,
          "value": -0.1811114463076523,
          "x": -0.8606060606060606
         },
         {
          "extrap": "Nearest",
          "k": 1,
          "value": -0.1792552178666974,
          "x": -0.8363636363636363
         },
         {
          "extrap": "Nearest",
          "k": 1,
          "value": -0.1773989894257426,
          "x": -0.812121212121212
         },
         {
          "extrap": "Nearest",
          "k": 1,
          "value": -0.1755427609847877,
          "x": -0.7878787878787878
         },
         {
          "extrap": "Nearest",
          "k": 1,
          "value": -0.15549565548836733,
          "x": -0.7636363636363637
         },
         {
          "extrap": "Nearest",
          "k": 1,
          "value": -0.12245506638089985,
          "x": -0.7393939393939393
         },
         {
          "extrap": "Nearest",
          "k": 1,
          "value": -0.08941447727343262,
          "x": -0.7151515151515151
         },
         {
          "extrap": "Nearest",
          "k": 1,
          "value": -0.05637388816596547,
          "x": -0.6909090909090909
         },
         {
          "extrap": "Nearest",
          "k": 1,
          "value": -0.02333329905849811,
          "x": -0.6666666666666666
         },
         {
          "extrap": "Nearest",
          "k": 1,
          "value": 0.009707290048969183,
          "x": -0.6424242424242423
         },
         {
          "extrap": "Nearest",
          "k": 1,
          "value": 0.04274787915643639,
          "x": -0.6181818181818182
         },
         {
          "extrap": "Nearest",
          "k": 1,
          "value": 0.07578846826390374,
          "x": -0.5939393939393939
         },
         {
          "extrap": "Nearest",
          "k": 1,
          "value": 0.10882905737137089,
          "x": -0.5696969696969697
         },
         {
          "extrap": "Nearest",
          "k": 1,
          "value": 0.14942735364705836,
          "x": -0.5454545454545454
         },
         {
          "extrap": "Nearest",
          "k": 1,
          "value": 0.20060643995825345,
          "x": -0.5212121212121211
         },
         {
          "extrap": "Nearest",
          "k": 1,
          "value": 0.25178552626944856,
          "x": -0.49696969696969695
         },
         {
          "extrap": "Nearest",
          "k": 1,
          "value": 0.3029646125806439,
          "x": -0.47272727272727266
         },
         {
          "extrap": "Nearest",
          "k": 1,
          "value": 0.35414369889183905,
          "x": -0.4484848484848485
         },
         {
          "extrap": "Nearest",
          "k": 1,
          "value": 0.40532278520303433,
          "x": -0.4242424242424242
         },
         {
          "extrap": "Nearest",
          "k": 1,
          "value": 0.45650187151422944,
          "x": -0.3999999999999999
         },
         {
          "extrap": "Nearest",
          "k": 1,
          "value": 0.5076809578254246,
          "x": -0.37575757575757573
         },
         {
          "extrap": "Nearest",
          "k": 1,
          "value": 0.5588600441366198,
          "x": -0.35151515151515145
         },
         {
          "extrap": "Nearest",
          "k": 1,
          "value": 0.6068471722151149,
          "x": -0.32727272727272727
         },
         {
          "extrap": "Nearest",
          "k": 1,
          "value": 0.6452584255955099,
          "x": -0.303030303030303
         },
         {
          "extrap": "Nearest",
          "k": 1,
          "value": 0.6836696789759049,
          "x": -0.2787878787878787
         },
         {
          "extrap": "Nearest",
          "k": 1,
          "value": 0.7220809323562997,
          "x": -0.2545454545454545
         },
         {
          "extrap": "Nearest",
          "k": 1,
          "value": 0.7604921857366946,
          "x": -0.23030303030303023
         },
         {
          "extrap": "Nearest",
          "k": 1,
          "value": 0.7989034391170895,
          "x": -0.20606060606060606
         },
         {
          "extrap": "Nearest",
          "k": 1,
          "value": 0.8373146924974844,
          "x": -0.18181818181818188
         },
         {
          "extrap": "Nearest",
          "k": 1,
          "value": 0.8757259458778796,
          "x": -0.15757575757575748
         },
         {
          "extrap": "Nearest",
          "k": 1,
          "value": 0.9141371992582744,
          "x": -0.1333333333333333
         },
         {
          "extrap": "Nearest",
          "k": 1,
          "value": 0.9493475148569697,
          "x": -0.10909090909090913
         },
         {
          "extrap": "Nearest",
          "k": 1,
          "value": 0.9493475148569697,
          "x": -0.08484848484848473
         },
         {
          "extrap": "Nearest",
          "k": 1,
          "value": 0.9493475148569697,
          "x": -0.06060606060606055
         },
         {
          "extrap": "Nearest",
          "k": 1,
          "value": 0.9493475148569697,
          "x": -0.036363636363636376
         },
         {
          "extrap": "Nearest",
          "k": 1,
          "value": 0.9493475148569697,
          "x": -0.012121212121211977
         },
         {
          "extrap": "Nearest",
          "k": 1,
          "value": 0.9493475148569697,
          "x": 0.0121212121212122
         },
         {
          "extrap": "Nearest",
          "k": 1,
          "value": 0.9493475148569697,
          "x": 0.036363636363636376
         },
         {
          "extrap": "Nearest",
          "k": 1,
          "value": 0.9493475148569697,
          "x": 0.06060606060606055
         },
         {
          "extrap": "Nearest",
          "k": 1,
          "value": 0.9493475148569697,
          "x": 0.08484848484848495
         },
         {
          "extrap": "Nearest",
          "k": 1,
          "value": 0.9493475148569697,
          "x": 0.10909090909090913
         },
         {
          "extrap": "Nearest",
          "k": 1,
          "value": 0.9141371992582744,
          "x": 0.1333333333333333
         },
         {
          "extrap": "Nearest",
          "k": 1,
          "value": 0.8757259458778791,
          "x": 0.1575757575757577
         },
         {
          "extrap": "Nearest",
          "k": 1,
          "value": 0.8373146924974845,
          "x": 0.18181818181818188
         },
         {
          "extrap": "Nearest",
          "k": 1,
          "value": 0.7989034391170895,
          "x": 0.20606060606060606
         },
         {
          "extrap": "Nearest",
          "k": 1,
          "value": 0.7604921857366944,
          "x": 0.23030303030303045
         },
         {
          "extrap": "Nearest",
          "k": 1,
          "value": 0.7220809323562998,
          "x": 0.25454545454545463
         },
         {
          "extrap": "Nearest",
          "k": 1,
          "value": 0.6836696789759048,
          "x": 0.2787878787878788
         },
         {
          "extrap": "Nearest",
          "k": 1,
          "value": 0.64525842559551,
          "x": 0.303030303030303
         },
         {
          "extrap": "Nearest",
          "k": 1,
          "value": 0.6068471722151147,
          "x": 0.3272727272727274
         },
         {
          "extrap": "Nearest",
          "k": 1,
          "value": 0.5588600441366199,
          "x": 0.35151515151515156
         },
         {
          "extrap": "Nearest",
          "k": 1,
          "value": 0.507680957825425,
          "x": 0.37575757575757573
         },
         {
          "extrap": "Nearest",
          "k": 1,
          "value": 0.4565018715142293,
          "x": 0.40000000000000013
         },
         {
          "extrap": "Nearest",
          "k": 1,
          "value": 0.40532278520303433,
          "x": 0.4242424242424243
         },
         {
          "extrap": "Nearest",
          "k": 1,
          "value": 0.35414369889183905,
          "x": 0.4484848484848485
         },
         {
          "extrap": "Nearest",
          "k": 1,
          "value": 0.3029646125806442,
          "x": 0.47272727272727266
         },
         {
          "extrap": "Nearest",
          "k": 1,
          "value": 0.25178552626944883,
          "x": 0.49696969696969706
         },
         {
          "extrap": "Nearest",
          "k": 1,
          "value": 0.20060643995825356,
          "x": 0.5212121212121212
         },
         {
          "extrap": "Nearest",
          "k": 1,
          "value": 0.14942735364705867,
          "x": 0.5454545454545454
         },
         {
          "extrap": "Nearest",
          "k": 1,
          "value": 0.10882905737137101,
          "x": 0.5696969696969698
         },
         {
          "extrap": "Nearest",
          "k": 1,
          "value": 0.0757884682639039,
          "x": 0.593939393939394
         },
         {
          "extrap": "Nearest",
          "k": 1,
          "value": 0.04274787915643679,
          "x": 0.6181818181818182
         },
         {
          "extrap": "Nearest",
          "k": 1,
          "value": 0.009707290048969128,
          "x": 0.6424242424242426
         },
         {
          "extrap": "Nearest",
          "k": 1,
          "value": -0.023333299058497986,
          "x": 0.6666666666666667
         },
         {
          "extrap": "Nearest",
          "k": 1,
          "value": -0.05637388816596537,
          "x": 0.6909090909090909
         },
         {
          "extrap": "Nearest",
          "k": 1,
          "value": -0.08941447727343249,
          "x": 0.7151515151515151
         },
         {
          "extrap": "Nearest",
          "k": 1,
          "value": -0.12245506638090013,
          "x": 0.7393939393939395
         },
         {
          "extrap": "Nearest",
          "k": 1,
          "value": -0.15549565548836725,
          "x": 0.7636363636363637
         },
         {
          "extrap": "Nearest",
          "k": 1,
          "value": -0.17554276098478766,
          "x": 0.7878787878787878
         },
         {
          "extrap": "Nearest",
          "k": 1,
          "value": -0.17739898942574253,
          "x": 0.8121212121212122
         },
         {
          "extrap": "Nearest",
          "k": 1,
          "value": -0.17925521786669738,
          "x": 0.8363636363636362
         },
         {
          "extrap": "Nearest",
          "k": 1,
          "value": -0.18111144630765225,
          "x": 0.8606060606060606
         },
         {
          "extrap": "Nearest",
          "k": 1,
          "value": -0.18296767474860715,
          "x": 0.884848484848485
         },
         {
          "extrap": "Nearest",
          "k": 1,
          "value": -0.184823903189562,
          "x": 0.909090909090909
         },
         {
          "extrap": "Nearest",
          "k": 1,
          "value": -0.18668013163051683,
          "x": 0.9333333333333333
         },
         {
          "extrap": "Nearest",
          "k": 1,
          "value": -0.18853636007147173,
          "x": 0.9575757575757577
         },
         {
          "extrap": "Nearest",
          "k": 1,
          "value": -0.19039258851242657,
          "x": 0.9818181818181817
         },
         {
          "extrap": "Nearest",
          "k": 1,
          "value": -0.19178475984314272,
          "x": 1.006060606060606
         },
         {
          "extrap": "Nearest",
          "k": 1,
          "value": -0.19178475984314272,
          "x": 1.0303030303030305
         },
         {
          "extrap": "Nearest",
          "k": 1,
          "value": -0.19178475984314272,
          "x": 1.0545454545454545
         },
         {
          "extrap": "Nearest",
          "k": 1,
          "value": -0.19178475984314272,
          "x": 1.0787878787878789
         },
         {
          "extrap": "Nearest",
          "k": 1,
          "value": -0.19178475984314272,
          "x": 1.1030303030303032
         },
         {
          "extrap": "Nearest",
          "k": 1,
          "value": -0.19178475984314272,
          "x": 1.1272727272727272
         },
         {
          "extrap": "Nearest",
          "k": 1,
          "value": -0.19178475984314272,
          "x": 1.1515151515151516
         },
         {
          "extrap": "Nearest",
          "k": 1,
          "value": -0.19178475984314272,
          "x": 1.175757575757576
         },
         {
          "extrap": "Nearest",
          "k": 1,
          "value": -0.19178475984314272,
          "x": 1.2
         },
         {
          "extrap": "Linear",
          "k": 3,
          "value": -0.14969015559151824,
          "x": -1.2
         },
         {
          "extrap": "Linear",
          "k": 3,
          "value": -0.15479253186444242,
          "x": -1.1757575757575758
         },
         {
          "extrap": "Linear",
          "k": 3,
          "value": -0.15989490813736662,
          "x": -1.1515151515151514
         },
         {
          "extrap": "Linear",
          "k": 3,
          "value": -0.16499728441029077,
          "x": -1.1272727272727272
         },
         {
          "extrap": "Linear",
          "k": 3,
          "value": -0.17009966068321491,
          "x": -1.103030303030303
         },
         {
          "extrap": "Linear",
          "k": 3,
          "value": -0.17520203695613917,
          "x": -1.0787878787878786
         },
         {
          "extrap": "Linear",
          "k": 3,
          "value": -0.18030441322906332,
          "x": -1.0545454545454545
         },
         {
          "extrap": "Linear",
          "k": 3,
          "value": -0.18540678950198747,
          "x": -1.0303030303030303
         },
         {
          "extrap": "Linear",
          "k": 3,
          "value": -0.19050916577491164,
          "x": -1.006060606060606
         },
         {
          "extrap": "Linear",
          "k": 3,
          "value": -0.19557660525144177,
          "x": -0.9818181818181818
         },
         {
          "extrap": "Linear",
          "k": 3,
          "value": -0.20027009161101325,
          "x": -0.9575757575757575
         },
         {
          "extrap": "Linear",
          "k": 3,
          "value": -0.20409403992699912,
          "x": -0.9333333333333333
         },
         {
          "extrap": "Linear",
          "k": 3,
          "value": -0.2065515713173506,
          "x": -0.9090909090909091
         },
         {
          "extrap": "Linear",
          "k": 3,
          "value": -0.20714580690001877,
          "x": -0.8848484848484848
         },
         {
          "extrap": "Linear",
          "k": 3,
          "value": -0.20537986779295472,
          "x": -0.8606060606060606
         },
         {
          "extrap": "Linear",
          "k": 3,
          "value": -0.20075687511410967,
          "x": -0.8363636363636363
         },
         {
          "extrap": "Linear",
          "k": 3,
          "value": -0.19277994998143455,
          "x": -0.812121212121212
         },
         {
          "extrap": "Linear",
          "k": 3,
          "value": -0.18095221351288066,
          "x": -0.7878787878787878
         },
         {
          "extrap": "Linear",
          "k": 3,
          "value": -0.16480174944893727,
          "x": -0.7636363636363637
         },
         {
          "extrap": "Linear",
          "k": 3,
          "value": -0.1442559707133798,
          "x": -0.7393939393939393
         },
         {
          "extrap": "Linear",
          "k": 3,
          "value": -0.1195634565660227,
          "x": -0.7151515151515151
         },
         {
          "extrap": "Linear",
          "k": 3,
          "value": -0.0909818834323278,
          "x": -0.6909090909090909
         },
         {
          "extrap": "Linear",
          "k": 3,
          "value": -0.05876892773775699,
          "x": -0.6666666666666666
         },
         {
          "extrap": "Linear",
          "k": 3,
          "value": -0.023182265907772462,
          "x": -0.6424242424242423
         },
         {
          "extrap": "Linear",
          "k": 3,
          "value": 0.015520425632163638,
          "x": -0.6181818181818182
         },
         {
          "extrap": "Linear",
          "k": 3,
          "value": 0.0570814704565896,
          "x": -0.5939393939393939
         },
         {
          "extrap": "Linear",
          "k": 3,
          "value": 0.10124319214004288,
          "x": -0.5696969696969697
         },
         {
          "extrap": "Linear",
          "k": 3,
          "value": 0.14774622593607187,
          "x": -0.5454545454545454
         },
         {
          "extrap": "Linear",
          "k": 3,
          "value": 0.19627160261398463,
          "x": -0.5212121212121211
         },
         {
          "extrap": "Linear",
          "k": 3,
          "value": 0.246426242404903,
          "x": -0.49696969696969695
         },
         {
          "extrap": "Linear",
          "k": 3,
          "value": 0.29781243278715164,
          "x": -0.47272727272727266
         },
         {
          "extrap": "Linear",
          "k": 3,
          "value": 0.3500324612390547,
          "x": -0.4484848484848485
         },
         {
          "extrap": "Linear",
          "k": 3,
          "value": 0.40268861523893673,
          "x": -0.4242424242424242
         },
         {
          "extrap": "Linear",
          "k": 3,
          "value": 0.455383182265122,
          "x": -0.3999999999999999
         },
         {
          "extrap": "Linear",
          "k": 3,
          "value": 0.507718449795935,
          "x": -0.37575757575757573
         },
         {
          "extrap": "Linear",
          "k": 3,
          "value": 0.5592967053097003,
          "x": -0.35151515151515145
         },
         {
          "extrap": "Linear",
          "k": 3,
          "value": 0.6097203388206996,
          "x": -0.32727272727272727
         },
         {
          "extrap": "Linear",
          "k": 3,
          "value": 0.6586041471940808,
          "x": -0.303030303030303
         },
         {
          "extrap": "Linear",
          "k": 3,
          "value": 0.7055870232450188,
          "x": -0.2787878787878787
         },
         {
          "extrap": "Linear",
          "k": 3,
          "value": 0.7503106282595423,
          "x": -0.2545454545454545
         },
         {
          "extrap": "Linear",
          "k": 3,
          "value": 0.792416623523682,
          "x": -0.23030303030303023
         },
         {
          "extrap": "Linear",
          "k": 3,
          "value": 0.8315466703234665,
          "x": -0.20606060606060606
         },
         {
          "extrap": "Linear",
          "k": 3,
          "value": 0.8673424299449255,
          "x": -0.18181818181818188
         },
         {
          "extrap": "Linear",
          "k": 3,
          "value": 0.8994455636740887,
          "x": -0.15757575757575748
         },
         {
          "extrap": "Linear",
          "k": 3,
          "value": 0.9274977327969849,
          "x": -0.1333333333333333
         },
         {
          "extrap": "Linear",
          "k": 3,
          "value": 0.9511406331616342,
          "x": -0.10909090909090913
         },
         {
          "extrap": "Linear",
          "k": 3,
          "value": 0.9700917550604754,
          "x": -0.08484848484848473
         },
         {
          "extrap": "Linear",
          "k": 3,
          "value": 0.984305096484606,
          "x": -0.06060606060606055
         },
         {
          "extrap": "Linear",
          "k": 3,
          "value": 0.9937806574340261,
          "x": -0.036363636363636376
         },
         {
          "extrap": "Linear",
          "k": 3,
          "value": 0.9985184379087366,
          "x": -0.012121212121211977
         },
         {
          "extrap": "Linear",
          "k": 3,
          "value": 0.9985184379087365,
          "x": 0.0121212121212122
         },
         {
          "extrap": "Linear",
          "k": 3,
          "value": 0.9937806574340262,
          "x": 0.036363636363636376
         },
         {
          "extrap": "Linear",
          "k": 3,
          "value": 0.984305096484606,
          "x": 0.06060606060606055
         },
         {
          "extrap": "Linear",
          "k": 3,
          "value": 0.9700917550604752,
          "x": 0.08484848484848495
         },
         {
          "extrap": "Linear",
          "k": 3,
          "value": 0.9511406331616342,
          "x": 0.10909090909090913
         },
         {
          "extrap": "Linear",
          "k": 3,
          "value": 0.9274977327969852,
          "x": 0.1333333333333333
         },
         {
          "extrap": "Linear",
          "k": 3,
          "value": 0.8994455636740886,
          "x": 0.1575757575757577
         },
         {
          "extrap": "Linear",
          "k": 3,
          "value": 0.8673424299449257,
          "x": 0.18181818181818188
         },
         {
          "extrap": "Linear",
          "k": 3,
          "value": 0.8315466703234664,
          "x": 0.20606060606060606
         },
         {
          "extrap": "Linear",
          "k": 3,
          "value": 0.7924166235236818,
          "x": 0.23030303030303045
         },
         {
          "extrap": "Linear",
          "k": 3,
          "value": 0.7503106282595426,
          "x": 0.25454545454545463
         },
         {
          "extrap": "Linear",
          "k": 3,
          "value": 0.7055870232450187,
          "x": 0.2787878787878788
         },
         {
          "extrap": "Linear",
          "k": 3,
          "value": 0.658604147194081,
          "x": 0.303030303030303
         },
         {
          "extrap": "Linear",
          "k": 3,
          "value": 0.6097203388206995,
          "x": 0.3272727272727274
         },
         {
          "extrap": "Linear",
          "k": 3,
          "value": 0.5592967053097004,
          "x": 0.35151515151515156
         },
         {
          "extrap": "Linear",
          "k": 3,
          "value": 0.5077184497959354,
          "x": 0.37575757575757573
         },
         {
          "extrap": "Linear",
          "k": 3,
          "value": 0.4553831822651218,
          "x": 0.40000000000000013
         },
         {
          "extrap": "Linear",
          "k": 3,
          "value": 0.40268861523893684,
          "x": 0.4242424242424243
         },
         {
          "extrap": "Linear",
          "k": 3,
          "value": 0.35003246123905474,
          "x": 0.4484848484848485
         },
         {
          "extrap": "Linear",
          "k": 3,
          "value": 0.29781243278715197,
          "x": 0.47272727272727266
         },
         {
          "extrap": "Linear",
          "k": 3,
          "value": 0.24642624240490332,
          "x": 0.49696969696969706
         },
         {
          "extrap": "Linear",
          "k": 3,
          "value": 0.19627160261398482,
          "x": 0.5212121212121212
         },
         {
          "extrap": "Linear",
          "k": 3,
          "value": 0.14774622593607226,
          "x": 0.5454545454545454
         },
         {
          "extrap": "Linear",
          "k": 3,
          "value": 0.10124319214004297,
          "x": 0.5696969696969698
         },
         {
          "extrap": "Linear",
          "k": 3,
          "value": 0.057081470456589734,
          "x": 0.593939393939394
         },
         {
          "extrap": "Linear",
          "k": 3,
          "value": 0.015520425632164119,
          "x": 0.6181818181818182
         },
         {
          "extrap": "Linear",
          "k": 3,
          "value": -0.023182265907772497,
          "x": 0.6424242424242426
         },
         {
          "extrap": "Linear",
          "k": 3,
          "value": -0.05876892773775682,
          "x": 0.6666666666666667
         },
         {
          "extrap": "Linear",
          "k": 3,
          "value": -0.09098188343232769,
          "x": 0.6909090909090909
         },
         {
          "extrap": "Linear",
          "k": 3,
          "value": -0.11956345656602255,
          "x": 0.7151515151515151
         },
         {
          "extrap": "Linear",
          "k": 3,
          "value": -0.14425597071337998,
          "x": 0.7393939393939395
         },
         {
          "extrap": "Linear",
          "k": 3,
          "value": -0.16480174944893716,
          "x": 0.7636363636363637
         },
         {
          "extrap": "Linear",
          "k": 3,
          "value": -0.18095221351288054,
          "x": 0.7878787878787878
         },
         {
          "extrap": "Linear",
          "k": 3,
          "value": -0.19277994998143452,
          "x": 0.8121212121212122
         },
         {
          "extrap": "Linear",
          "k": 3,
          "value": -0.20075687511410964,
          "x": 0.8363636363636362
         },
         {
          "extrap": "Linear",
          "k": 3,
          "value": -0.20537986779295478,
          "x": 0.8606060606060606
         },
         {
          "extrap": "Linear",
          "k": 3,
          "value": -0.20714580690001877,
          "x": 0.884848484848485
         },
         {
          "extrap": "Linear",
          "k": 3,
          "value": -0.20655157131735064,
          "x": 0.909090909090909
         },
         {
          "extrap": "Linear",
          "k": 3,
          "value": -0.20409403992699918,
          "x": 0.9333333333333333
         },
         {
          "extrap": "Linear",
          "k": 3,
          "value": -0.20027009161101317,
          "x": 0.9575757575757577
         },
         {
          "extrap": "Linear",
          "k": 3,
          "value": -0.1955766052514418,
          "x": 0.9818181818181817
         },
         {
          "extrap": "Linear",
          "k": 3,
          "value": -0.19050916577491167,
          "x": 1.006060606060606
         },
         {
          "extrap": "Linear",
          "k": 3,
          "value": -0.18540678950198744,
          "x": 1.0303030303030305
         },
         {
          "extrap": "Linear",
          "k": 3,
          "value": -0.18030441322906327,
          "x": 1.0545454545454545
         },
         {
          "extrap": "Linear",
          "k": 3,
          "value": -0.17520203695613906,
          "x": 1.0787878787878789
         },
         {
          "extrap": "Linear",
          "k": 3,
          "value": -0.17009966068321486,
          "x": 1.1030303030303032
         },
         {
          "extrap": "Linear",
          "k": 3,
          "value": -0.16499728441029082,
          "x": 1.1272727272727272
         },
         {
          "extrap": "Linear",
          "k": 3,
          "value": -0.15989490813736656,
          "x": 1.1515151515151516
         },
         {
          "extrap": "Linear",
          "k": 3,
          "value": -0.15479253186444236,
          "x": 1.175757575757576
         },
         {
          "extrap": "Linear",
          "k": 3,
          "value": -0.1496901555915182,
          "x": 1.2
         },
         {
          "extrap": "Constant",
          "k": 3,
          "value": 0,
          "x": -1.2
         },
         {
          "extrap": "Constant",
          "k": 3,
          "value": 0,
          "x": -1.1757575757575758
         },
         {
          "extrap": "Constant",
          "k": 3,
          "value": 0,
          "x": -1.1515151515151514
         },
         {
          "extrap": "Constant",
          "k": 3,
          "value": 0,
          "x": -1.1272727272727272
         },
         {
          "extrap": "Constant",
          "k": 3,
          "value": 0,
          "x": -1.103030303030303
         },
         {
          "extrap": "Constant",
          "k": 3,
          "value": 0,
          "x": -1.0787878787878786
         },
         {
          "extrap": "Constant",
          "k": 3,
          "value": 0,
          "x": -1.0545454545454545
         },
         {
          "extrap": "Constant",
          "k": 3,
          "value": 0,
          "x": -1.0303030303030303
         },
         {
          "extrap": "Constant",
          "k": 3,
          "value": 0,
          "x": -1.006060606060606
         },
         {
          "extrap": "Constant",
          "k": 3,
          "value": -0.19557660525144177,
          "x": -0.9818181818181818
         },
         {
          "extrap": "Constant",
          "k": 3,
          "value": -0.20027009161101325,
          "x": -0.9575757575757575
         },
         {
          "extrap": "Constant",
          "k": 3,
          "value": -0.20409403992699912,
          "x": -0.9333333333333333
         },
         {
          "extrap": "Constant",
          "k": 3,
          "value": -0.2065515713173506,
          "x": -0.9090909090909091
         },
         {
          "extrap": "Constant",
          "k": 3,
          "value": -0.20714580690001877,
          "x": -0.8848484848484848
         },
         {
          "extrap": "Constant",
          "k": 3,
          "value": -0.20537986779295472,
          "x": -0.8606060606060606
         },
         {
          "extrap": "Constant",
          "k": 3,
          "value": -0.20075687511410967,
          "x": -0.8363636363636363
         },
         {
          "extrap": "Constant",
          "k": 3,
          "value": -0.19277994998143455,
          "x": -0.812121212121212
         },
         {
          "extrap": "Constant",
          "k": 3,
          "value": -0.18095221351288066,
          "x": -0.7878787878787878
         },
         {
          "extrap": "Constant",
          "k": 3,
          "value": -0.16480174944893727,
          "x": -0.7636363636363637
         },
         {
          "extrap": "Constant",
          "k": 3,
          "value": -0.1442559707133798,
          "x": -0.7393939393939393
         },
         {
          "extrap": "Constant",
          "k": 3,
          "value": -0.1195634565660227,
          "x": -0.7151515151515151
         },
         {
          "extrap": "Constant",
          "k": 3,
          "value": -0.0909818834323278,
          "x": -0.6909090909090909
         },
         {
          "extrap": "Constant",
          "k": 3,
          "value": -0.05876892773775699,
          "x": -0.6666666666666666
         },
         {
          "extrap": "Constant",
          "k": 3,
          "value": -0.023182265907772462,
          "x": -0.6424242424242423
         },
         {
          "extrap": "Constant",
          "k": 3,
          "value": 0.015520425632163638,
          "x": -0.6181818181818182
         },
         {
          "extrap": "Constant",
          "k": 3,
          "value": 0.0570814704565896,
          "x": -0.5939393939393939
         },
         {
          "extrap": "Constant",
          "k": 3,
          "value": 0.10124319214004288,
          "x": -0.5696969696969697
         },
         {
          "extrap": "Constant",
          "k": 3,
          "value": 0.14774622593607187,
          "x": -0.5454545454545454
         },
         {
          "extrap": "Constant",
          "k": 3,
          "value": 0.19627160261398463,
          "x": -0.5212121212121211
         },
         {
          "extrap": "Constant",
          "k": 3,
          "value": 0.246426242404903,
          "x": -0.49696969696969695
         },
         {
          "extrap": "Constant",
          "k": 3,
          "value": 0.29781243278715164,
          "x": -0.47272727272727266
         },
         {
          "extrap": "Constant",
          "k": 3,
          "value": 0.3500324612390547,
          "x": -0.4484848484848485
         },
         {
          "extrap": "Constant",
          "k": 3,
          "value": 0.40268861523893673,
          "x": -0.4242424242424242
         },
         {
          "extrap": "Constant",
          "k": 3,
          "value": 0.455383182265122,
          "x": -0.3999999999999999
         },
         {
          "extrap": "Constant",
          "k": 3,
          "value": 0.507718449795935,
          "x": -0.37575757575757573
         },
         {
          "extrap": "Constant",
          "k": 3,
          "value": 0.5592967053097003,
          "x": -0.35151515151515145
         },
         {
          "extrap": "Constant",
          "k": 3,
          "value": 0.6097203388206996,
          "x": -0.32727272727272727
         },
         {
          "extrap": "Constant",
          "k": 3,
          "value": 0.6586041471940808,
          "x": -0.303030303030303
         },
         {
          "extrap": "Constant",
          "k": 3,
          "value": 0.7055870232450188,
          "x": -0.2787878787878787
         },
         {
          "extrap": "Constant",
          "k": 3,
          "value": 0.7503106282595423,
          "x": -0.2545454545454545
         },
         {
          "extrap": "Constant",
          "k": 3,
          "value": 0.792416623523682,
          "x": -0.23030303030303023
         },
         {
          "extrap": "Constant",
          "k": 3,
          "value": 0.8315466703234665,
          "x": -0.20606060606060606
         },
         {
          "extrap": "Constant",
          "k": 3,
          "value": 0.8673424299449255,
          "x": -0.18181818181818188
         },
         {
          "extrap": "Constant",
          "k": 3,
          "value": 0.8994455636740887,
          "x": -0.15757575757575748
         },
         {
          "extrap": "Constant",
          "k": 3,
          "value": 0.9274977327969849,
          "x": -0.1333333333333333
         },
         {
          "extrap": "Constant",
          "k": 3,
          "value": 0.9511406331616342,
          "x": -0.10909090909090913
         },
         {
          "extrap": "Constant",
          "k": 3,
          "value": 0.9700917550604754,
          "x": -0.08484848484848473
         },
         {
          "extrap": "Constant",
          "k": 3,
          "value": 0.984305096484606,
          "x": -0.06060606060606055
         },
         {
          "extrap": "Constant",
          "k": 3,
          "value": 0.9937806574340261,
          "x": -0.036363636363636376
         },
         {
          "extrap": "Constant",
          "k": 3,
          "value": 0.9985184379087366,
          "x": -0.012121212121211977
         },
         {
          "extrap": "Constant",
          "k": 3,
          "value": 0.9985184379087365,
          "x": 0.0121212121212122
         },
         {
          "extrap": "Constant",
          "k": 3,
          "value": 0.9937806574340262,
          "x": 0.036363636363636376
         },
         {
          "extrap": "Constant",
          "k": 3,
          "value": 0.984305096484606,
          "x": 0.06060606060606055
         },
         {
          "extrap": "Constant",
          "k": 3,
          "value": 0.9700917550604752,
          "x": 0.08484848484848495
         },
         {
          "extrap": "Constant",
          "k": 3,
          "value": 0.9511406331616342,
          "x": 0.10909090909090913
         },
         {
          "extrap": "Constant",
          "k": 3,
          "value": 0.9274977327969852,
          "x": 0.1333333333333333
         },
         {
          "extrap": "Constant",
          "k": 3,
          "value": 0.8994455636740886,
          "x": 0.1575757575757577
         },
         {
          "extrap": "Constant",
          "k": 3,
          "value": 0.8673424299449257,
          "x": 0.18181818181818188
         },
         {
          "extrap": "Constant",
          "k": 3,
          "value": 0.8315466703234664,
          "x": 0.20606060606060606
         },
         {
          "extrap": "Constant",
          "k": 3,
          "value": 0.7924166235236818,
          "x": 0.23030303030303045
         },
         {
          "extrap": "Constant",
          "k": 3,
          "value": 0.7503106282595426,
          "x": 0.25454545454545463
         },
         {
          "extrap": "Constant",
          "k": 3,
          "value": 0.7055870232450187,
          "x": 0.2787878787878788
         },
         {
          "extrap": "Constant",
          "k": 3,
          "value": 0.658604147194081,
          "x": 0.303030303030303
         },
         {
          "extrap": "Constant",
          "k": 3,
          "value": 0.6097203388206995,
          "x": 0.3272727272727274
         },
         {
          "extrap": "Constant",
          "k": 3,
          "value": 0.5592967053097004,
          "x": 0.35151515151515156
         },
         {
          "extrap": "Constant",
          "k": 3,
          "value": 0.5077184497959354,
          "x": 0.37575757575757573
         },
         {
          "extrap": "Constant",
          "k": 3,
          "value": 0.4553831822651218,
          "x": 0.40000000000000013
         },
         {
          "extrap": "Constant",
          "k": 3,
          "value": 0.40268861523893684,
          "x": 0.4242424242424243
         },
         {
          "extrap": "Constant",
          "k": 3,
          "value": 0.35003246123905474,
          "x": 0.4484848484848485
         },
         {
          "extrap": "Constant",
          "k": 3,
          "value": 0.29781243278715197,
          "x": 0.47272727272727266
         },
         {
          "extrap": "Constant",
          "k": 3,
          "value": 0.24642624240490332,
          "x": 0.49696969696969706
         },
         {
          "extrap": "Constant",
          "k": 3,
          "value": 0.19627160261398482,
          "x": 0.5212121212121212
         },
         {
          "extrap": "Constant",
          "k": 3,
          "value": 0.14774622593607226,
          "x": 0.5454545454545454
         },
         {
          "extrap": "Constant",
          "k": 3,
          "value": 0.10124319214004297,
          "x": 0.5696969696969698
         },
         {
          "extrap": "Constant",
          "k": 3,
          "value": 0.057081470456589734,
          "x": 0.593939393939394
         },
         {
          "extrap": "Constant",
          "k": 3,
          "value": 0.015520425632164119,
          "x": 0.6181818181818182
         },
         {
          "extrap": "Constant",
          "k": 3,
          "value": -0.023182265907772497,
          "x": 0.6424242424242426
         },
         {
          "extrap": "Constant",
          "k": 3,
          "value": -0.05876892773775682,
          "x": 0.6666666666666667
         },
         {
          "extrap": "Constant",
          "k": 3,
          "value": -0.09098188343232769,
          "x": 0.6909090909090909
         },
         {
          "extrap": "Constant",
          "k": 3,
          "value": -0.11956345656602255,
          "x": 0.7151515151515151
         },
         {
          "extrap": "Constant",
          "k": 3,
          "value": -0.14425597071337998,
          "x": 0.7393939393939395
         },
         {
          "extrap": "Constant",
          "k": 3,
          "value": -0.16480174944893716,
          "x": 0.7636363636363637
         },
         {
          "extrap": "Constant",
          "k": 3,
          "value": -0.18095221351288054,
          "x": 0.7878787878787878
         },
         {
          "extrap": "Constant",
          "k": 3,
          "value": -0.19277994998143452,
          "x": 0.8121212121212122
         },
         {
          "extrap": "Constant",
          "k": 3,
          "value": -0.20075687511410964,
          "x": 0.8363636363636362
         },
         {
          "extrap": "Constant",
          "k": 3,
          "value": -0.20537986779295478,
          "x": 0.8606060606060606
         },
         {
          "extrap": "Constant",
          "k": 3,
          "value": -0.20714580690001877,
          "x": 0.884848484848485
         },
         {
          "extrap": "Constant",
          "k": 3,
          "value": -0.20655157131735064,
          "x": 0.909090909090909
         },
         {
          "extrap": "Constant",
          "k": 3,
          "value": -0.20409403992699918,
          "x": 0.9333333333333333
         },
         {
          "extrap": "Constant",
          "k": 3,
          "value": -0.20027009161101317,
          "x": 0.9575757575757577
         },
         {
          "extrap": "Constant",
          "k": 3,
          "value": -0.1955766052514418,
          "x": 0.9818181818181817
         },
         {
          "extrap": "Constant",
          "k": 3,
          "value": 0,
          "x": 1.006060606060606
         },
         {
          "extrap": "Constant",
          "k": 3,
          "value": 0,
          "x": 1.0303030303030305
         },
         {
          "extrap": "Constant",
          "k": 3,
          "value": 0,
          "x": 1.0545454545454545
         },
         {
          "extrap": "Constant",
          "k": 3,
          "value": 0,
          "x": 1.0787878787878789
         },
         {
          "extrap": "Constant",
          "k": 3,
          "value": 0,
          "x": 1.1030303030303032
         },
         {
          "extrap": "Constant",
          "k": 3,
          "value": 0,
          "x": 1.1272727272727272
         },
         {
          "extrap": "Constant",
          "k": 3,
          "value": 0,
          "x": 1.1515151515151516
         },
         {
          "extrap": "Constant",
          "k": 3,
          "value": 0,
          "x": 1.175757575757576
         },
         {
          "extrap": "Constant",
          "k": 3,
          "value": 0,
          "x": 1.2
         },
         {
          "extrap": "Nearest",
          "k": 3,
          "value": -0.1917847598431427,
          "x": -1.2
         },
         {
          "extrap": "Nearest",
          "k": 3,
          "value": -0.1917847598431427,
          "x": -1.1757575757575758
         },
         {
          "extrap": "Nearest",
          "k": 3,
          "value": -0.1917847598431427,
          "x": -1.1515151515151514
         },
         {
          "extrap": "Nearest",
          "k": 3,
          "value": -0.1917847598431427,
          "x": -1.1272727272727272
         },
         {
          "extrap": "Nearest",
          "k": 3,
          "value": -0.1917847598431427,
          "x": -1.103030303030303
         },
         {
          "extrap": "Nearest",
          "k": 3,
          "value": -0.1917847598431427,
          "x": -1.0787878787878786
         },
         {
          "extrap": "Nearest",
          "k": 3,
          "value": -0.1917847598431427,
          "x": -1.0545454545454545
         },
         {
          "extrap": "Nearest",
          "k": 3,
          "value": -0.1917847598431427,
          "x": -1.0303030303030303
         },
         {
          "extrap": "Nearest",
          "k": 3,
          "value": -0.1917847598431427,
          "x": -1.006060606060606
         },
         {
          "extrap": "Nearest",
          "k": 3,
          "value": -0.19557660525144177,
          "x": -0.9818181818181818
         },
         {
          "extrap": "Nearest",
          "k": 3,
          "value": -0.20027009161101325,
          "x": -0.9575757575757575
         },
         {
          "extrap": "Nearest",
          "k": 3,
          "value": -0.20409403992699912,
          "x": -0.9333333333333333
         },
         {
          "extrap": "Nearest",
          "k": 3,
          "value": -0.2065515713173506,
          "x": -0.9090909090909091
         },
         {
          "extrap": "Nearest",
          "k": 3,
          "value": -0.20714580690001877,
          "x": -0.8848484848484848
         },
         {
          "extrap": "Nearest",
          "k": 3,
          "value": -0.20537986779295472,
          "x": -0.8606060606060606
         },
         {
          "extrap": "Nearest",
          "k": 3,
          "value": -0.20075687511410967,
          "x": -0.8363636363636363
         },
         {
          "extrap": "Nearest",
          "k": 3,
          "value": -0.19277994998143455,
          "x": -0.812121212121212
         },
         {
          "extrap": "Nearest",
          "k": 3,
          "value": -0.18095221351288066,
          "x": -0.7878787878787878
         },
         {
          "extrap": "Nearest",
          "k": 3,
          "value": -0.16480174944893727,
          "x": -0.7636363636363637
         },
         {
          "extrap": "Nearest",
          "k": 3,
          "value": -0.1442559707133798,
          "x": -0.7393939393939393
         },
         {
          "extrap": "Nearest",
          "k": 3,
          "value": -0.1195634565660227,
          "x": -0.7151515151515151
         },
         {
          "extrap": "Nearest",
          "k": 3,
          "value": -0.0909818834323278,
          "x": -0.6909090909090909
         },
         {
          "extrap": "Nearest",
          "k": 3,
          "value": -0.05876892773775699,
          "x": -0.6666666666666666
         },
         {
          "extrap": "Nearest",
          "k": 3,
          "value": -0.023182265907772462,
          "x": -0.6424242424242423
         },
         {
          "extrap": "Nearest",
          "k": 3,
          "value": 0.015520425632163638,
          "x": -0.6181818181818182
         },
         {
          "extrap": "Nearest",
          "k": 3,
          "value": 0.0570814704565896,
          "x": -0.5939393939393939
         },
         {
          "extrap": "Nearest",
          "k": 3,
          "value": 0.10124319214004288,
          "x": -0.5696969696969697
         },
         {
          "extrap": "Nearest",
          "k": 3,
          "value": 0.14774622593607187,
          "x": -0.5454545454545454
         },
         {
          "extrap": "Nearest",
          "k": 3,
          "value": 0.19627160261398463,
          "x": -0.5212121212121211
         },
         {
          "extrap": "Nearest",
          "k": 3,
          "value": 0.246426242404903,
          "x": -0.49696969696969695
         },
         {
          "extrap": "Nearest",
          "k": 3,
          "value": 0.29781243278715164,
          "x": -0.47272727272727266
         },
         {
          "extrap": "Nearest",
          "k": 3,
          "value": 0.3500324612390547,
          "x": -0.4484848484848485
         },
         {
          "extrap": "Nearest",
          "k": 3,
          "value": 0.40268861523893673,
          "x": -0.4242424242424242
         },
         {
          "extrap": "Nearest",
          "k": 3,
          "value": 0.455383182265122,
          "x": -0.3999999999999999
         },
         {
          "extrap": "Nearest",
          "k": 3,
          "value": 0.507718449795935,
          "x": -0.37575757575757573
         },
         {
          "extrap": "Nearest",
          "k": 3,
          "value": 0.5592967053097003,
          "x": -0.35151515151515145
         },
         {
          "extrap": "Nearest",
          "k": 3,
          "value": 0.6097203388206996,
          "x": -0.32727272727272727
         },
         {
          "extrap": "Nearest",
          "k": 3,
          "value": 0.6586041471940808,
          "x": -0.303030303030303
         },
         {
          "extrap": "Nearest",
          "k": 3,
          "value": 0.7055870232450188,
          "x": -0.2787878787878787
         },
         {
          "extrap": "Nearest",
          "k": 3,
          "value": 0.7503106282595423,
          "x": -0.2545454545454545
         },
         {
          "extrap": "Nearest",
          "k": 3,
          "value": 0.792416623523682,
          "x": -0.23030303030303023
         },
         {
          "extrap": "Nearest",
          "k": 3,
          "value": 0.8315466703234665,
          "x": -0.20606060606060606
         },
         {
          "extrap": "Nearest",
          "k": 3,
          "value": 0.8673424299449255,
          "x": -0.18181818181818188
         },
         {
          "extrap": "Nearest",
          "k": 3,
          "value": 0.8994455636740887,
          "x": -0.15757575757575748
         },
         {
          "extrap": "Nearest",
          "k": 3,
          "value": 0.9274977327969849,
          "x": -0.1333333333333333
         },
         {
          "extrap": "Nearest",
          "k": 3,
          "value": 0.9511406331616342,
          "x": -0.10909090909090913
         },
         {
          "extrap": "Nearest",
          "k": 3,
          "value": 0.9700917550604754,
          "x": -0.08484848484848473
         },
         {
          "extrap": "Nearest",
          "k": 3,
          "value": 0.984305096484606,
          "x": -0.06060606060606055
         },
         {
          "extrap": "Nearest",
          "k": 3,
          "value": 0.9937806574340261,
          "x": -0.036363636363636376
         },
         {
          "extrap": "Nearest",
          "k": 3,
          "value": 0.9985184379087366,
          "x": -0.012121212121211977
         },
         {
          "extrap": "Nearest",
          "k": 3,
          "value": 0.9985184379087365,
          "x": 0.0121212121212122
         },
         {
          "extrap": "Nearest",
          "k": 3,
          "value": 0.9937806574340262,
          "x": 0.036363636363636376
         },
         {
          "extrap": "Nearest",
          "k": 3,
          "value": 0.984305096484606,
          "x": 0.06060606060606055
         },
         {
          "extrap": "Nearest",
          "k": 3,
          "value": 0.9700917550604752,
          "x": 0.08484848484848495
         },
         {
          "extrap": "Nearest",
          "k": 3,
          "value": 0.9511406331616342,
          "x": 0.10909090909090913
         },
         {
          "extrap": "Nearest",
          "k": 3,
          "value": 0.9274977327969852,
          "x": 0.1333333333333333
         },
         {
          "extrap": "Nearest",
          "k": 3,
          "value": 0.8994455636740886,
          "x": 0.1575757575757577
         },
         {
          "extrap": "Nearest",
          "k": 3,
          "value": 0.8673424299449257,
          "x": 0.18181818181818188
         },
         {
          "extrap": "Nearest",
          "k": 3,
          "value": 0.8315466703234664,
          "x": 0.20606060606060606
         },
         {
          "extrap": "Nearest",
          "k": 3,
          "value": 0.7924166235236818,
          "x": 0.23030303030303045
         },
         {
          "extrap": "Nearest",
          "k": 3,
          "value": 0.7503106282595426,
          "x": 0.25454545454545463
         },
         {
          "extrap": "Nearest",
          "k": 3,
          "value": 0.7055870232450187,
          "x": 0.2787878787878788
         },
         {
          "extrap": "Nearest",
          "k": 3,
          "value": 0.658604147194081,
          "x": 0.303030303030303
         },
         {
          "extrap": "Nearest",
          "k": 3,
          "value": 0.6097203388206995,
          "x": 0.3272727272727274
         },
         {
          "extrap": "Nearest",
          "k": 3,
          "value": 0.5592967053097004,
          "x": 0.35151515151515156
         },
         {
          "extrap": "Nearest",
          "k": 3,
          "value": 0.5077184497959354,
          "x": 0.37575757575757573
         },
         {
          "extrap": "Nearest",
          "k": 3,
          "value": 0.4553831822651218,
          "x": 0.40000000000000013
         },
         {
          "extrap": "Nearest",
          "k": 3,
          "value": 0.40268861523893684,
          "x": 0.4242424242424243
         },
         {
          "extrap": "Nearest",
          "k": 3,
          "value": 0.35003246123905474,
          "x": 0.4484848484848485
         },
         {
          "extrap": "Nearest",
          "k": 3,
          "value": 0.29781243278715197,
          "x": 0.47272727272727266
         },
         {
          "extrap": "Nearest",
          "k": 3,
          "value": 0.24642624240490332,
          "x": 0.49696969696969706
         },
         {
          "extrap": "Nearest",
          "k": 3,
          "value": 0.19627160261398482,
          "x": 0.5212121212121212
         },
         {
          "extrap": "Nearest",
          "k": 3,
          "value": 0.14774622593607226,
          "x": 0.5454545454545454
         },
         {
          "extrap": "Nearest",
          "k": 3,
          "value": 0.10124319214004297,
          "x": 0.5696969696969698
         },
         {
          "extrap": "Nearest",
          "k": 3,
          "value": 0.057081470456589734,
          "x": 0.593939393939394
         },
         {
          "extrap": "Nearest",
          "k": 3,
          "value": 0.015520425632164119,
          "x": 0.6181818181818182
         },
         {
          "extrap": "Nearest",
          "k": 3,
          "value": -0.023182265907772497,
          "x": 0.6424242424242426
         },
         {
          "extrap": "Nearest",
          "k": 3,
          "value": -0.05876892773775682,
          "x": 0.6666666666666667
         },
         {
          "extrap": "Nearest",
          "k": 3,
          "value": -0.09098188343232769,
          "x": 0.6909090909090909
         },
         {
          "extrap": "Nearest",
          "k": 3,
          "value": -0.11956345656602255,
          "x": 0.7151515151515151
         },
         {
          "extrap": "Nearest",
          "k": 3,
          "value": -0.14425597071337998,
          "x": 0.7393939393939395
         },
         {
          "extrap": "Nearest",
          "k": 3,
          "value": -0.16480174944893716,
          "x": 0.7636363636363637
         },
         {
          "extrap": "Nearest",
          "k": 3,
          "value": -0.18095221351288054,
          "x": 0.7878787878787878
         },
         {
          "extrap": "Nearest",
          "k": 3,
          "value": -0.19277994998143452,
          "x": 0.8121212121212122
         },
         {
          "extrap": "Nearest",
          "k": 3,
          "value": -0.20075687511410964,
          "x": 0.8363636363636362
         },
         {
          "extrap": "Nearest",
          "k": 3,
          "value": -0.20537986779295478,
          "x": 0.8606060606060606
         },
         {
          "extrap": "Nearest",
          "k": 3,
          "value": -0.20714580690001877,
          "x": 0.884848484848485
         },
         {
          "extrap": "Nearest",
          "k": 3,
          "value": -0.20655157131735064,
          "x": 0.909090909090909
         },
         {
          "extrap": "Nearest",
          "k": 3,
          "value": -0.20409403992699918,
          "x": 0.9333333333333333
         },
         {
          "extrap": "Nearest",
          "k": 3,
          "value": -0.20027009161101317,
          "x": 0.9575757575757577
         },
         {
          "extrap": "Nearest",
          "k": 3,
          "value": -0.1955766052514418,
          "x": 0.9818181818181817
         },
         {
          "extrap": "Nearest",
          "k": 3,
          "value": -0.1917847598431427,
          "x": 1.006060606060606
         },
         {
          "extrap": "Nearest",
          "k": 3,
          "value": -0.1917847598431427,
          "x": 1.0303030303030305
         },
         {
          "extrap": "Nearest",
          "k": 3,
          "value": -0.1917847598431427,
          "x": 1.0545454545454545
         },
         {
          "extrap": "Nearest",
          "k": 3,
          "value": -0.1917847598431427,
          "x": 1.0787878787878789
         },
         {
          "extrap": "Nearest",
          "k": 3,
          "value": -0.1917847598431427,
          "x": 1.1030303030303032
         },
         {
          "extrap": "Nearest",
          "k": 3,
          "value": -0.1917847598431427,
          "x": 1.1272727272727272
         },
         {
          "extrap": "Nearest",
          "k": 3,
          "value": -0.1917847598431427,
          "x": 1.1515151515151516
         },
         {
          "extrap": "Nearest",
          "k": 3,
          "value": -0.1917847598431427,
          "x": 1.175757575757576
         },
         {
          "extrap": "Nearest",
          "k": 3,
          "value": -0.1917847598431427,
          "x": 1.2
         }
        ],
        "data-4217a6c929eb0a305a8c72e00a387b44": [
         {
          "fun": "Data",
          "x": "-1.0",
          "y": "-0.19178475984314272"
         },
         {
          "fun": "Data",
          "x": "-0.7777777777777778",
          "y": "-0.1747693324677232"
         },
         {
          "fun": "Data",
          "x": "-0.5555555555555556",
          "y": "0.12810273435072683"
         },
         {
          "fun": "Data",
          "x": "-0.33333333333333337",
          "y": "0.5972443588700161"
         },
         {
          "fun": "Data",
          "x": "-0.11111111111111116",
          "y": "0.9493475148569697"
         },
         {
          "fun": "Data",
          "x": "0.11111111111111116",
          "y": "0.9493475148569697"
         },
         {
          "fun": "Data",
          "x": "0.33333333333333326",
          "y": "0.5972443588700164"
         },
         {
          "fun": "Data",
          "x": "0.5555555555555554",
          "y": "0.12810273435072717"
         },
         {
          "fun": "Data",
          "x": "0.7777777777777777",
          "y": "-0.17476933246772314"
         },
         {
          "fun": "Data",
          "x": "1.0",
          "y": "-0.19178475984314272"
         },
         {
          "fun": "Function",
          "x": "-1.2",
          "y": "-0.04656908190990291"
         },
         {
          "fun": "Function",
          "x": "-1.1757575757575758",
          "y": "-0.06692942247711572"
         },
         {
          "fun": "Function",
          "x": "-1.1515151515151514",
          "y": "-0.08714421457173124"
         },
         {
          "fun": "Function",
          "x": "-1.1272727272727272",
          "y": "-0.106922170188949"
         },
         {
          "fun": "Function",
          "x": "-1.103030303030303",
          "y": "-0.12596598390494812"
         },
         {
          "fun": "Function",
          "x": "-1.0787878787878786",
          "y": "-0.14397568542484868"
         },
         {
          "fun": "Function",
          "x": "-1.0545454545454545",
          "y": "-0.16065209338041372"
         },
         {
          "fun": "Function",
          "x": "-1.0303030303030303",
          "y": "-0.17570033057836132"
         },
         {
          "fun": "Function",
          "x": "-1.006060606060606",
          "y": "-0.18883335963211464"
         },
         {
          "fun": "Function",
          "x": "-0.9818181818181818",
          "y": "-0.1997754971333988"
         },
         {
          "fun": "Function",
          "x": "-0.9575757575757575",
          "y": "-0.20826586424931942"
         },
         {
          "fun": "Function",
          "x": "-0.9333333333333333",
          "y": "-0.2140617318733032"
         },
         {
          "fun": "Function",
          "x": "-0.9090909090909091",
          "y": "-0.21694171921595845"
         },
         {
          "fun": "Function",
          "x": "-0.8848484848484848",
          "y": "-0.21670880598951436"
         },
         {
          "fun": "Function",
          "x": "-0.8606060606060606",
          "y": "-0.2131931201055802"
         },
         {
          "fun": "Function",
          "x": "-0.8363636363636363",
          "y": "-0.20625446505275297"
         },
         {
          "fun": "Function",
          "x": "-0.812121212121212",
          "y": "-0.19578455382419693"
         },
         {
          "fun": "Function",
          "x": "-0.7878787878787878",
          "y": "-0.18170891939594255"
         },
         {
          "fun": "Function",
          "x": "-0.7636363636363637",
          "y": "-0.16398847527900026"
         },
         {
          "fun": "Function",
          "x": "-0.7393939393939393",
          "y": "-0.1426207035420457"
         },
         {
          "fun": "Function",
          "x": "-0.7151515151515151",
          "y": "-0.11764045188135529"
         },
         {
          "fun": "Function",
          "x": "-0.6909090909090909",
          "y": "-0.08912032575171955"
         },
         {
          "fun": "Function",
          "x": "-0.6666666666666666",
          "y": "-0.05717066621361849"
         },
         {
          "fun": "Function",
          "x": "-0.6424242424242423",
          "y": "-0.021939108942526857"
         },
         {
          "fun": "Function",
          "x": "-0.6181818181818182",
          "y": "0.016390275271801612"
         },
         {
          "fun": "Function",
          "x": "-0.5939393939393939",
          "y": "0.05759825329391105"
         },
         {
          "fun": "Function",
          "x": "-0.5696969696969697",
          "y": "0.10143210555009567"
         },
         {
          "fun": "Function",
          "x": "-0.5454545454545454",
          "y": "0.14760769014614233"
         },
         {
          "fun": "Function",
          "x": "-0.5212121212121211",
          "y": "0.195811875613373"
         },
         {
          "fun": "Function",
          "x": "-0.49696969696969695",
          "y": "0.24570531825126052"
         },
         {
          "fun": "Function",
          "x": "-0.47272727272727266",
          "y": "0.2969255558439767"
         },
         {
          "fun": "Function",
          "x": "-0.4484848484848485",
          "y": "0.34909038564840184"
         },
         {
          "fun": "Function",
          "x": "-0.4242424242424242",
          "y": "0.4018014910310182"
         },
         {
          "fun": "Function",
          "x": "-0.3999999999999999",
          "y": "0.45464827801505636"
         },
         {
          "fun": "Function",
          "x": "-0.37575757575757573",
          "y": "0.507211880326904"
         },
         {
          "fun": "Function",
          "x": "-0.35151515151515145",
          "y": "0.5590692893363356"
         },
         {
          "fun": "Function",
          "x": "-0.32727272727272727",
          "y": "0.6097975635970834"
         },
         {
          "fun": "Function",
          "x": "-0.303030303030303",
          "y": "0.6589780715350266"
         },
         {
          "fun": "Function",
          "x": "-0.2787878787878787",
          "y": "0.7062007202167283"
         },
         {
          "fun": "Function",
          "x": "-0.2545454545454545",
          "y": "0.7510681230705029"
         },
         {
          "fun": "Function",
          "x": "-0.23030303030303023",
          "y": "0.7931996599281512"
         },
         {
          "fun": "Function",
          "x": "-0.20606060606060606",
          "y": "0.8322353838036256"
         },
         {
          "fun": "Function",
          "x": "-0.18181818181818188",
          "y": "0.8678397304140947"
         },
         {
          "fun": "Function",
          "x": "-0.15757575757575748",
          "y": "0.899704988561377"
         },
         {
          "fun": "Function",
          "x": "-0.1333333333333333",
          "y": "0.9275544921032948"
         },
         {
          "fun": "Function",
          "x": "-0.10909090909090913",
          "y": "0.9511454973247854"
         },
         {
          "fun": "Function",
          "x": "-0.08484848484848473",
          "y": "0.9702717130313825"
         },
         {
          "fun": "Function",
          "x": "-0.06060606060606055",
          "y": "0.9847654545914649"
         },
         {
          "fun": "Function",
          "x": "-0.036363636363636376",
          "y": "0.9944993974020491"
         },
         {
          "fun": "Function",
          "x": "-0.012121212121211977",
          "y": "0.999387909795235"
         },
         {
          "fun": "Function",
          "x": "0.0121212121212122",
          "y": "0.9993879097952348"
         },
         {
          "fun": "Function",
          "x": "0.036363636363636376",
          "y": "0.9944993974020491"
         },
         {
          "fun": "Function",
          "x": "0.06060606060606055",
          "y": "0.9847654545914649"
         },
         {
          "fun": "Function",
          "x": "0.08484848484848495",
          "y": "0.9702717130313823"
         },
         {
          "fun": "Function",
          "x": "0.10909090909090913",
          "y": "0.9511454973247854"
         },
         {
          "fun": "Function",
          "x": "0.1333333333333333",
          "y": "0.9275544921032948"
         },
         {
          "fun": "Function",
          "x": "0.1575757575757577",
          "y": "0.8997049885613767"
         },
         {
          "fun": "Function",
          "x": "0.18181818181818188",
          "y": "0.8678397304140947"
         },
         {
          "fun": "Function",
          "x": "0.20606060606060606",
          "y": "0.8322353838036256"
         },
         {
          "fun": "Function",
          "x": "0.23030303030303045",
          "y": "0.7931996599281508"
         },
         {
          "fun": "Function",
          "x": "0.25454545454545463",
          "y": "0.7510681230705026"
         },
         {
          "fun": "Function",
          "x": "0.2787878787878788",
          "y": "0.7062007202167282"
         },
         {
          "fun": "Function",
          "x": "0.303030303030303",
          "y": "0.6589780715350266"
         },
         {
          "fun": "Function",
          "x": "0.3272727272727274",
          "y": "0.609797563597083"
         },
         {
          "fun": "Function",
          "x": "0.35151515151515156",
          "y": "0.5590692893363354"
         },
         {
          "fun": "Function",
          "x": "0.37575757575757573",
          "y": "0.507211880326904"
         },
         {
          "fun": "Function",
          "x": "0.40000000000000013",
          "y": "0.4546482780150558"
         },
         {
          "fun": "Function",
          "x": "0.4242424242424243",
          "y": "0.40180149103101803"
         },
         {
          "fun": "Function",
          "x": "0.4484848484848485",
          "y": "0.34909038564840184"
         },
         {
          "fun": "Function",
          "x": "0.47272727272727266",
          "y": "0.2969255558439767"
         },
         {
          "fun": "Function",
          "x": "0.49696969696969706",
          "y": "0.24570531825126035"
         },
         {
          "fun": "Function",
          "x": "0.5212121212121212",
          "y": "0.19581187561337263"
         },
         {
          "fun": "Function",
          "x": "0.5454545454545454",
          "y": "0.14760769014614233"
         },
         {
          "fun": "Function",
          "x": "0.5696969696969698",
          "y": "0.10143210555009549"
         },
         {
          "fun": "Function",
          "x": "0.593939393939394",
          "y": "0.05759825329391089"
         },
         {
          "fun": "Function",
          "x": "0.6181818181818182",
          "y": "0.016390275271801612"
         },
         {
          "fun": "Function",
          "x": "0.6424242424242426",
          "y": "-0.021939108942527128"
         },
         {
          "fun": "Function",
          "x": "0.6666666666666667",
          "y": "-0.057170666213618736"
         },
         {
          "fun": "Function",
          "x": "0.6909090909090909",
          "y": "-0.08912032575171955"
         },
         {
          "fun": "Function",
          "x": "0.7151515151515151",
          "y": "-0.11764045188135529"
         },
         {
          "fun": "Function",
          "x": "0.7393939393939395",
          "y": "-0.14262070354204587"
         },
         {
          "fun": "Function",
          "x": "0.7636363636363637",
          "y": "-0.16398847527900026"
         },
         {
          "fun": "Function",
          "x": "0.7878787878787878",
          "y": "-0.18170891939594255"
         },
         {
          "fun": "Function",
          "x": "0.8121212121212122",
          "y": "-0.19578455382419704"
         },
         {
          "fun": "Function",
          "x": "0.8363636363636362",
          "y": "-0.20625446505275288"
         },
         {
          "fun": "Function",
          "x": "0.8606060606060606",
          "y": "-0.2131931201055802"
         },
         {
          "fun": "Function",
          "x": "0.884848484848485",
          "y": "-0.21670880598951436"
         },
         {
          "fun": "Function",
          "x": "0.909090909090909",
          "y": "-0.21694171921595845"
         },
         {
          "fun": "Function",
          "x": "0.9333333333333333",
          "y": "-0.2140617318733032"
         },
         {
          "fun": "Function",
          "x": "0.9575757575757577",
          "y": "-0.20826586424931934"
         },
         {
          "fun": "Function",
          "x": "0.9818181818181817",
          "y": "-0.19977549713339887"
         },
         {
          "fun": "Function",
          "x": "1.006060606060606",
          "y": "-0.18883335963211464"
         },
         {
          "fun": "Function",
          "x": "1.0303030303030305",
          "y": "-0.17570033057836118"
         },
         {
          "fun": "Function",
          "x": "1.0545454545454545",
          "y": "-0.16065209338041372"
         },
         {
          "fun": "Function",
          "x": "1.0787878787878789",
          "y": "-0.14397568542484843"
         },
         {
          "fun": "Function",
          "x": "1.1030303030303032",
          "y": "-0.12596598390494798"
         },
         {
          "fun": "Function",
          "x": "1.1272727272727272",
          "y": "-0.106922170188949"
         },
         {
          "fun": "Function",
          "x": "1.1515151515151516",
          "y": "-0.08714421457173109"
         },
         {
          "fun": "Function",
          "x": "1.175757575757576",
          "y": "-0.06692942247711557"
         },
         {
          "fun": "Function",
          "x": "1.2",
          "y": "-0.04656908190990291"
         }
        ]
       },
       "layer": [
        {
         "data": {
          "name": "data-4217a6c929eb0a305a8c72e00a387b44"
         },
         "encoding": {
          "color": {
           "field": "fun",
           "type": "nominal"
          },
          "detail": {
           "field": "fun",
           "type": "nominal"
          },
          "x": {
           "field": "x",
           "type": "quantitative"
          },
          "y": {
           "field": "y",
           "type": "quantitative"
          }
         },
         "mark": "point",
         "transform": [
          {
           "filter": "(datum.fun === 'Data')"
          }
         ]
        },
        {
         "data": {
          "name": "data-4217a6c929eb0a305a8c72e00a387b44"
         },
         "encoding": {
          "color": {
           "field": "fun",
           "type": "nominal"
          },
          "detail": {
           "field": "fun",
           "type": "nominal"
          },
          "x": {
           "field": "x",
           "type": "quantitative"
          },
          "y": {
           "field": "y",
           "type": "quantitative"
          }
         },
         "mark": "line",
         "transform": [
          {
           "filter": "(datum.fun === 'Function')"
          }
         ]
        },
        {
         "data": {
          "name": "data-373735f976f471b91159544507e25ff8"
         },
         "encoding": {
          "color": {
           "field": "extrap",
           "type": "nominal"
          },
          "detail": [
           {
            "field": "k",
            "type": "quantitative"
           },
           {
            "field": "extrap",
            "type": "nominal"
           }
          ],
          "x": {
           "field": "x",
           "type": "quantitative"
          },
          "y": {
           "field": "value",
           "type": "quantitative"
          }
         },
         "mark": "line",
         "selection": {
          "Order": {
           "bind": {
            "input": "range",
            "max": 3,
            "min": 1,
            "step": 2
           },
           "empty": "all",
           "fields": [
            "k"
           ],
           "on": "click",
           "resolve": "global",
           "type": "single"
          }
         },
         "title": "Interpolation",
         "transform": [
          {
           "filter": {
            "selection": "Order"
           }
          }
         ]
        }
       ]
      },
      "image/png": "[encoded data removed]",
      "text/plain": [
       "<VegaLite 2 object>\n",
       "\n",
       "If you see this message, it means the renderer has not been properly enabled\n",
       "for the frontend that you are using. For more information, see\n",
       "https://altair-viz.github.io/user_guide/troubleshooting.html\n"
      ]
     },
     "execution_count": 17,
     "metadata": {},
     "output_type": "execute_result"
    }
   ],
   "source": [
    "ch0 = alt.Chart(df0).mark_point().encode(x='x:Q',y='y:Q',color='fun:N',detail='fun').transform_filter(datum.fun=='Data')\n",
    "ch00 = alt.Chart(df0).mark_line().encode(x='x:Q',y='y:Q',color='fun:N',detail='fun').transform_filter(datum.fun=='Function')\n",
    "ch1 = alt.Chart(df, title='Interpolation').mark_line().encode(x='x',y='value',color='extrap', detail=('k','extrap')).add_selection(single).transform_filter(single)\n",
    "# ch2 = alt.Chart(df).mark_line().encode(x='x',y='value',color='k:N',detail=('k','extrap'))\n",
    "ch0+ch00+ch1"
   ]
  },
  {
   "cell_type": "code",
   "execution_count": null,
   "metadata": {},
   "outputs": [],
   "source": []
  },
  {
   "cell_type": "code",
   "execution_count": null,
   "metadata": {},
   "outputs": [],
   "source": []
  }
 ],
 "metadata": {
  "kernelspec": {
   "display_name": "Python 3",
   "language": "python",
   "name": "python3"
  },
  "language_info": {
   "codemirror_mode": {
    "name": "ipython",
    "version": 3
   },
   "file_extension": ".py",
   "mimetype": "text/x-python",
   "name": "python",
   "nbconvert_exporter": "python",
   "pygments_lexer": "ipython3",
   "version": "3.6.8"
  }
 },
 "nbformat": 4,
 "nbformat_minor": 2
}
