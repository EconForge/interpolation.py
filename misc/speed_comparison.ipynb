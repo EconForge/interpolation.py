{
 "cells": [
  {
   "cell_type": "code",
   "execution_count": 27,
   "metadata": {},
   "outputs": [],
   "source": [
    "n = 10\n",
    "n_1 = 10\n",
    "n_2 = 20\n",
    "\n",
    "# from interpolation.linear_bases.basis_linear import UniformLinearSplineBasis as UniformLinearSpline\n",
    "from interpolation.linear_bases.product import *\n",
    "\n",
    "from interpolation.linear_bases.basis_uniform_cubic_splines import UniformSpline\n",
    "# cb = ChebychevBasis(min=0,max=1,n=n_1)\n",
    "a = np.array([0.0,0])\n",
    "b = np.array([1.0,1])\n",
    "\n",
    "orders = np.array([n_1,n_2])\n",
    "lb1 = UniformSpline(0,1,n_1)\n",
    "lb2 = UniformSpline(0,1,n_2)\n",
    "\n",
    "tb = TensorBase([lb1, lb2])\n",
    "\n",
    "tp = tb.Phi(tb.grid)"
   ]
  },
  {
   "cell_type": "code",
   "execution_count": 28,
   "metadata": {},
   "outputs": [],
   "source": [
    "c = np.random.random((n_1+2, n_2+2, 3))"
   ]
  },
  {
   "cell_type": "code",
   "execution_count": 29,
   "metadata": {},
   "outputs": [],
   "source": [
    "def interp(tb, c, points):\n",
    "    ckp = tb.Phi(points)\n",
    "    return ckp*c"
   ]
  },
  {
   "cell_type": "code",
   "execution_count": 30,
   "metadata": {},
   "outputs": [],
   "source": [
    "from interpolation.splines.eval_cubic import *"
   ]
  },
  {
   "cell_type": "code",
   "execution_count": 31,
   "metadata": {},
   "outputs": [],
   "source": [
    "N = 10000000\n",
    "points = np.random.random((N,2))"
   ]
  },
  {
   "cell_type": "code",
   "execution_count": 32,
   "metadata": {},
   "outputs": [
    {
     "name": "stdout",
     "output_type": "stream",
     "text": [
      " "
     ]
    }
   ],
   "source": [
    "%prun -s time res_1 = interp(tb, c, points)"
   ]
  },
  {
   "cell_type": "code",
   "execution_count": 33,
   "metadata": {},
   "outputs": [
    {
     "name": "stdout",
     "output_type": "stream",
     "text": [
      "CPU times: user 3.22 s, sys: 728 ms, total: 3.95 s\n",
      "Wall time: 3.95 s\n"
     ]
    }
   ],
   "source": [
    "%time res_1 = interp(tb, c, points)"
   ]
  },
  {
   "cell_type": "code",
   "execution_count": 34,
   "metadata": {},
   "outputs": [
    {
     "name": "stdout",
     "output_type": "stream",
     "text": [
      "CPU times: user 1.92 s, sys: 56 ms, total: 1.98 s\n",
      "Wall time: 1.96 s\n"
     ]
    }
   ],
   "source": [
    "%time res_2 = vec_eval_cubic_splines(a,b,orders,c, points)"
   ]
  },
  {
   "cell_type": "code",
   "execution_count": 35,
   "metadata": {},
   "outputs": [
    {
     "data": {
      "text/plain": [
       "0.0"
      ]
     },
     "execution_count": 35,
     "metadata": {},
     "output_type": "execute_result"
    }
   ],
   "source": [
    "abs(res_1 - res_2).max()"
   ]
  }
 ],
 "metadata": {
  "kernelspec": {
   "display_name": "Python 3",
   "language": "python",
   "name": "python3"
  },
  "language_info": {
   "codemirror_mode": {
    "name": "ipython",
    "version": 3
   },
   "file_extension": ".py",
   "mimetype": "text/x-python",
   "name": "python",
   "nbconvert_exporter": "python",
   "pygments_lexer": "ipython3",
   "version": "3.5.1"
  }
 },
 "nbformat": 4,
 "nbformat_minor": 0
}
